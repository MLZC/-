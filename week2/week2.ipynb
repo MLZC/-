{
 "cells": [
  {
   "cell_type": "markdown",
   "metadata": {
    "collapsed": true
   },
   "source": [
    "# 产生10-30之间的随机矩阵X，X为300\\*1的矩阵"
   ]
  },
  {
   "cell_type": "code",
   "execution_count": 1,
   "metadata": {
    "scrolled": false
   },
   "outputs": [
    {
     "name": "stdout",
     "output_type": "stream",
     "text": [
      "[[20]\n",
      " [22]\n",
      " [12]\n",
      " [26]\n",
      " [11]\n",
      " [29]\n",
      " [13]\n",
      " [11]\n",
      " [25]\n",
      " [25]\n",
      " [19]\n",
      " [29]\n",
      " [12]\n",
      " [12]\n",
      " [19]\n",
      " [22]\n",
      " [21]\n",
      " [16]\n",
      " [22]\n",
      " [21]\n",
      " [12]\n",
      " [25]\n",
      " [29]\n",
      " [19]\n",
      " [14]\n",
      " [15]\n",
      " [19]\n",
      " [20]\n",
      " [28]\n",
      " [11]\n",
      " [16]\n",
      " [14]\n",
      " [17]\n",
      " [17]\n",
      " [26]\n",
      " [28]\n",
      " [11]\n",
      " [14]\n",
      " [29]\n",
      " [14]\n",
      " [21]\n",
      " [11]\n",
      " [12]\n",
      " [26]\n",
      " [14]\n",
      " [14]\n",
      " [27]\n",
      " [17]\n",
      " [19]\n",
      " [10]\n",
      " [18]\n",
      " [25]\n",
      " [28]\n",
      " [16]\n",
      " [10]\n",
      " [18]\n",
      " [10]\n",
      " [22]\n",
      " [27]\n",
      " [22]\n",
      " [23]\n",
      " [18]\n",
      " [29]\n",
      " [19]\n",
      " [29]\n",
      " [29]\n",
      " [29]\n",
      " [13]\n",
      " [11]\n",
      " [12]\n",
      " [23]\n",
      " [23]\n",
      " [21]\n",
      " [27]\n",
      " [23]\n",
      " [27]\n",
      " [19]\n",
      " [10]\n",
      " [23]\n",
      " [29]\n",
      " [27]\n",
      " [16]\n",
      " [23]\n",
      " [24]\n",
      " [15]\n",
      " [14]\n",
      " [19]\n",
      " [21]\n",
      " [24]\n",
      " [22]\n",
      " [23]\n",
      " [12]\n",
      " [28]\n",
      " [12]\n",
      " [16]\n",
      " [23]\n",
      " [27]\n",
      " [11]\n",
      " [18]\n",
      " [20]\n",
      " [24]\n",
      " [28]\n",
      " [22]\n",
      " [23]\n",
      " [26]\n",
      " [14]\n",
      " [23]\n",
      " [20]\n",
      " [24]\n",
      " [22]\n",
      " [29]\n",
      " [12]\n",
      " [10]\n",
      " [15]\n",
      " [23]\n",
      " [12]\n",
      " [24]\n",
      " [20]\n",
      " [20]\n",
      " [13]\n",
      " [13]\n",
      " [25]\n",
      " [11]\n",
      " [27]\n",
      " [25]\n",
      " [19]\n",
      " [18]\n",
      " [13]\n",
      " [27]\n",
      " [24]\n",
      " [11]\n",
      " [28]\n",
      " [10]\n",
      " [22]\n",
      " [19]\n",
      " [21]\n",
      " [11]\n",
      " [20]\n",
      " [22]\n",
      " [27]\n",
      " [23]\n",
      " [27]\n",
      " [18]\n",
      " [20]\n",
      " [22]\n",
      " [15]\n",
      " [22]\n",
      " [14]\n",
      " [27]\n",
      " [24]\n",
      " [20]\n",
      " [16]\n",
      " [14]\n",
      " [22]\n",
      " [13]\n",
      " [25]\n",
      " [20]\n",
      " [17]\n",
      " [16]\n",
      " [22]\n",
      " [14]\n",
      " [19]\n",
      " [17]\n",
      " [26]\n",
      " [17]\n",
      " [24]\n",
      " [27]\n",
      " [10]\n",
      " [11]\n",
      " [19]\n",
      " [21]\n",
      " [25]\n",
      " [25]\n",
      " [28]\n",
      " [23]\n",
      " [22]\n",
      " [25]\n",
      " [12]\n",
      " [10]\n",
      " [11]\n",
      " [24]\n",
      " [25]\n",
      " [22]\n",
      " [22]\n",
      " [18]\n",
      " [20]\n",
      " [21]\n",
      " [18]\n",
      " [13]\n",
      " [11]\n",
      " [13]\n",
      " [28]\n",
      " [25]\n",
      " [26]\n",
      " [14]\n",
      " [25]\n",
      " [19]\n",
      " [10]\n",
      " [27]\n",
      " [19]\n",
      " [11]\n",
      " [28]\n",
      " [12]\n",
      " [25]\n",
      " [16]\n",
      " [21]\n",
      " [11]\n",
      " [22]\n",
      " [28]\n",
      " [17]\n",
      " [15]\n",
      " [23]\n",
      " [19]\n",
      " [11]\n",
      " [19]\n",
      " [15]\n",
      " [16]\n",
      " [12]\n",
      " [12]\n",
      " [28]\n",
      " [27]\n",
      " [24]\n",
      " [12]\n",
      " [29]\n",
      " [14]\n",
      " [16]\n",
      " [10]\n",
      " [17]\n",
      " [25]\n",
      " [27]\n",
      " [15]\n",
      " [21]\n",
      " [20]\n",
      " [17]\n",
      " [20]\n",
      " [11]\n",
      " [25]\n",
      " [24]\n",
      " [25]\n",
      " [11]\n",
      " [21]\n",
      " [14]\n",
      " [29]\n",
      " [29]\n",
      " [16]\n",
      " [17]\n",
      " [29]\n",
      " [25]\n",
      " [18]\n",
      " [20]\n",
      " [11]\n",
      " [14]\n",
      " [28]\n",
      " [22]\n",
      " [17]\n",
      " [15]\n",
      " [29]\n",
      " [12]\n",
      " [18]\n",
      " [13]\n",
      " [20]\n",
      " [21]\n",
      " [13]\n",
      " [14]\n",
      " [29]\n",
      " [16]\n",
      " [29]\n",
      " [28]\n",
      " [26]\n",
      " [23]\n",
      " [28]\n",
      " [15]\n",
      " [20]\n",
      " [10]\n",
      " [25]\n",
      " [13]\n",
      " [27]\n",
      " [23]\n",
      " [26]\n",
      " [13]\n",
      " [16]\n",
      " [17]\n",
      " [21]\n",
      " [14]\n",
      " [22]\n",
      " [22]\n",
      " [10]\n",
      " [10]\n",
      " [24]\n",
      " [29]\n",
      " [23]\n",
      " [12]\n",
      " [19]\n",
      " [13]\n",
      " [14]\n",
      " [11]\n",
      " [12]\n",
      " [29]\n",
      " [22]\n",
      " [10]]\n"
     ]
    }
   ],
   "source": [
    "import numpy as np\n",
    "X = np.random.randint(10,30,size=(300,1))\n",
    "print(X)"
   ]
  },
  {
   "cell_type": "markdown",
   "metadata": {},
   "source": [
    "# 直到X为300*10的矩阵"
   ]
  },
  {
   "cell_type": "code",
   "execution_count": 2,
   "metadata": {},
   "outputs": [
    {
     "name": "stdout",
     "output_type": "stream",
     "text": [
      "[[  20.   40.   60. ...,  160.  180.  200.]\n",
      " [  22.   44.   66. ...,  176.  198.  220.]\n",
      " [  12.   24.   36. ...,   96.  108.  120.]\n",
      " ..., \n",
      " [  29.   58.   87. ...,  232.  261.  290.]\n",
      " [  22.   44.   66. ...,  176.  198.  220.]\n",
      " [  10.   20.   30. ...,   80.   90.  100.]]\n"
     ]
    },
    {
     "data": {
      "text/plain": [
       "(300, 10)"
      ]
     },
     "execution_count": 2,
     "metadata": {},
     "output_type": "execute_result"
    }
   ],
   "source": [
    "tim = np.linspace(1,10,10)\n",
    "X = X * tim # 利用python中的广播对矩阵X进行处理，使X成为 大小为(300,10)的矩阵，并且X[i]=tim[i]*X[i]\n",
    "print(X)\n",
    "X.shape"
   ]
  },
  {
   "cell_type": "markdown",
   "metadata": {},
   "source": [
    "# 向X中添加数据，一直到X为300*30"
   ]
  },
  {
   "cell_type": "code",
   "execution_count": 3,
   "metadata": {},
   "outputs": [
    {
     "name": "stdout",
     "output_type": "stream",
     "text": [
      "[[  20.   40.   60. ...,  128.  129.  131.]\n",
      " [  22.   44.   66. ...,  186.  136.  161.]\n",
      " [  12.   24.   36. ...,  142.  158.  138.]\n",
      " ..., \n",
      " [  29.   58.   87. ...,  188.  100.  119.]\n",
      " [  22.   44.   66. ...,  169.  153.  133.]\n",
      " [  10.   20.   30. ...,  146.  162.  141.]]\n"
     ]
    },
    {
     "data": {
      "text/plain": [
       "(300, 30)"
      ]
     },
     "execution_count": 3,
     "metadata": {},
     "output_type": "execute_result"
    }
   ],
   "source": [
    "X2 = np.random.randint(100,200,size=(300,20)) \n",
    "X = np.column_stack((X,X2))\n",
    "print(X)\n",
    "X.shape"
   ]
  },
  {
   "cell_type": "markdown",
   "metadata": {
    "collapsed": true
   },
   "source": [
    "# 对X进行标准化处理"
   ]
  },
  {
   "cell_type": "code",
   "execution_count": 4,
   "metadata": {},
   "outputs": [
    {
     "name": "stdout",
     "output_type": "stream",
     "text": [
      "[[-2.33376429 -1.92772315 -1.52168202 ..., -0.14114215 -0.1208401\n",
      "  -0.08023598]\n",
      " [-2.29316018 -1.84651493 -1.39986968 ...,  1.03637714  0.0212743\n",
      "   0.52882572]\n",
      " [-2.49618074 -2.25255606 -2.00893138 ...,  0.14308664  0.46791955\n",
      "   0.06187841]\n",
      " ..., \n",
      " [-2.15104578 -1.56228613 -0.97352648 ...,  1.07698125 -0.70959975\n",
      "  -0.32386067]\n",
      " [-2.29316018 -1.84651493 -1.39986968 ...,  0.69124217  0.36640927\n",
      "  -0.03963187]\n",
      " [-2.53678486 -2.33376429 -2.13074372 ...,  0.22429487  0.54912778\n",
      "   0.12278458]]\n"
     ]
    }
   ],
   "source": [
    "av = np.average(X)\n",
    "st = np.std(X)\n",
    "X = (X-av)/st\n",
    "print(X)"
   ]
  },
  {
   "cell_type": "markdown",
   "metadata": {},
   "source": [
    "# 对X进行PCA处理，得到特征向量A，处理后的数据B"
   ]
  },
  {
   "cell_type": "code",
   "execution_count": 14,
   "metadata": {
    "collapsed": true
   },
   "outputs": [],
   "source": [
    "#零均值化\n",
    "def zeroMean(dataMat):      \n",
    "    meanVal=np.mean(dataMat,axis=0)     #按列求均值，即求各个特征的均值\n",
    "    newData=dataMat-meanVal\n",
    "    return newData,meanVal\n",
    "\n",
    "def pca(dataMat,n):\n",
    "    newData,meanVal=zeroMean(dataMat)\n",
    "    covMat=np.cov(newData,rowvar=0)    #求协方差矩阵,return ndarray；若rowvar非0，一列代表一个样本，为0，一行代表一个样本\n",
    "    \n",
    "    eigVals,eigVects=np.linalg.eig(np.mat(covMat))#求特征值和特征向量,特征向量是按列放的，即一列代表一个特征向量\n",
    "    eigValIndice=np.argsort(eigVals)            #对特征值从小到大排序\n",
    "    n_eigValIndice=eigValIndice[-1:-(n+1):-1]   #最大的n个特征值的下标\n",
    "    n_eigVect=eigVects[:,n_eigValIndice]        #最大的n个特征值对应的特征向量\n",
    "    lowDDataMat=newData*n_eigVect               #低维特征空间的数据\n",
    "    reconMat=(lowDDataMat*n_eigVect.T)+meanVal  #重构数据\n",
    "    return n_eigVect,lowDDataMat,reconMat"
   ]
  },
  {
   "cell_type": "code",
   "execution_count": 15,
   "metadata": {
    "collapsed": true
   },
   "outputs": [],
   "source": [
    "A,B,reconMat = pca(X,10)"
   ]
  },
  {
   "cell_type": "code",
   "execution_count": 16,
   "metadata": {},
   "outputs": [
    {
     "data": {
      "text/plain": [
       "(30, 10)"
      ]
     },
     "execution_count": 16,
     "metadata": {},
     "output_type": "execute_result"
    }
   ],
   "source": [
    "A.shape"
   ]
  },
  {
   "cell_type": "code",
   "execution_count": 17,
   "metadata": {},
   "outputs": [
    {
     "data": {
      "text/plain": [
       "(300, 10)"
      ]
     },
     "execution_count": 17,
     "metadata": {},
     "output_type": "execute_result"
    }
   ],
   "source": [
    "B.shape"
   ]
  },
  {
   "cell_type": "code",
   "execution_count": 18,
   "metadata": {},
   "outputs": [
    {
     "data": {
      "text/plain": [
       "matrix([[ 0.00944701+0.j,  0.01889402+0.j,  0.02834102+0.j, ...,\n",
       "          0.40142040+0.j, -0.00223883+0.j, -0.57492921+0.j],\n",
       "        [ 0.04970885+0.j,  0.09941770+0.j,  0.14912655+0.j, ...,\n",
       "          0.43231874+0.j, -0.05128662+0.j, -0.54912193+0.j],\n",
       "        [-0.15359715+0.j, -0.30719430+0.j, -0.46079145+0.j, ...,\n",
       "         -0.03390193+0.j,  0.31822175+0.j, -0.11630940+0.j],\n",
       "        ..., \n",
       "        [ 0.19205956+0.j,  0.38411912+0.j,  0.57617868+0.j, ...,\n",
       "          0.32982073+0.j, -0.93366098+0.j, -0.61885878+0.j],\n",
       "        [ 0.04934981+0.j,  0.09869962+0.j,  0.14804943+0.j, ...,\n",
       "          0.18933253+0.j,  0.35086217+0.j, -0.23704422+0.j],\n",
       "        [-0.19512973+0.j, -0.39025945+0.j, -0.58538918+0.j, ...,\n",
       "         -0.14323176+0.j,  0.07309469+0.j, -0.22976486+0.j]])"
      ]
     },
     "execution_count": 18,
     "metadata": {},
     "output_type": "execute_result"
    }
   ],
   "source": [
    "B*A.T"
   ]
  },
  {
   "cell_type": "code",
   "execution_count": 19,
   "metadata": {},
   "outputs": [
    {
     "name": "stdout",
     "output_type": "stream",
     "text": [
      "[[-2.33376429 -1.92772315 -1.52168202 ..., -0.14114215 -0.1208401\n",
      "  -0.08023598]\n",
      " [-2.29316018 -1.84651493 -1.39986968 ...,  1.03637714  0.0212743\n",
      "   0.52882572]\n",
      " [-2.49618074 -2.25255606 -2.00893138 ...,  0.14308664  0.46791955\n",
      "   0.06187841]\n",
      " ..., \n",
      " [-2.15104578 -1.56228613 -0.97352648 ...,  1.07698125 -0.70959975\n",
      "  -0.32386067]\n",
      " [-2.29316018 -1.84651493 -1.39986968 ...,  0.69124217  0.36640927\n",
      "  -0.03963187]\n",
      " [-2.53678486 -2.33376429 -2.13074372 ...,  0.22429487  0.54912778\n",
      "   0.12278458]]\n"
     ]
    }
   ],
   "source": [
    "print(X)"
   ]
  },
  {
   "cell_type": "code",
   "execution_count": 20,
   "metadata": {},
   "outputs": [
    {
     "name": "stdout",
     "output_type": "stream",
     "text": [
      "[[-2.33372390+0.j -1.92764238+0.j -1.52156085+0.j ...,  0.66665775+0.j\n",
      "   0.32843881+0.j -0.27578742+0.j]\n",
      " [-2.29346206+0.j -1.84711870+0.j -1.40077533+0.j ...,  0.69755609+0.j\n",
      "   0.27939103+0.j -0.24998014+0.j]\n",
      " [-2.49676806+0.j -2.25373069+0.j -2.01069333+0.j ...,  0.23133542+0.j\n",
      "   0.64889939+0.j  0.18283239+0.j]\n",
      " ..., \n",
      " [-2.15111135+0.j -1.56241728+0.j -0.97372320+0.j ...,  0.59505808+0.j\n",
      "  -0.60298334+0.j -0.31971699+0.j]\n",
      " [-2.29382110+0.j -1.84783677+0.j -1.40185245+0.j ...,  0.45456988+0.j\n",
      "   0.68153981+0.j  0.06209756+0.j]\n",
      " [-2.53830063+0.j -2.33679584+0.j -2.13529105+0.j ...,  0.12200559+0.j\n",
      "   0.40377234+0.j  0.06937692+0.j]]\n"
     ]
    }
   ],
   "source": [
    "print(reconMat)"
   ]
  },
  {
   "cell_type": "code",
   "execution_count": 24,
   "metadata": {},
   "outputs": [],
   "source": [
    "I = np.linspace(1,10,10).reshape(10,1)"
   ]
  },
  {
   "cell_type": "code",
   "execution_count": 25,
   "metadata": {},
   "outputs": [
    {
     "data": {
      "text/plain": [
       "(10, 1)"
      ]
     },
     "execution_count": 25,
     "metadata": {},
     "output_type": "execute_result"
    }
   ],
   "source": [
    "I.shape"
   ]
  },
  {
   "cell_type": "code",
   "execution_count": 28,
   "metadata": {},
   "outputs": [
    {
     "ename": "AttributeError",
     "evalue": "'int' object has no attribute 'dtype'",
     "output_type": "error",
     "traceback": [
      "\u001b[1;31m---------------------------------------------------------------------------\u001b[0m",
      "\u001b[1;31mAttributeError\u001b[0m                            Traceback (most recent call last)",
      "\u001b[1;32m<ipython-input-28-9e9aa89e03f2>\u001b[0m in \u001b[0;36m<module>\u001b[1;34m()\u001b[0m\n\u001b[1;32m----> 1\u001b[1;33m \u001b[0mI\u001b[0m\u001b[1;33m.\u001b[0m\u001b[0mshape\u001b[0m\u001b[1;33m[\u001b[0m\u001b[1;36m0\u001b[0m\u001b[1;33m]\u001b[0m\u001b[1;33m.\u001b[0m\u001b[0mdtype\u001b[0m\u001b[1;33m\u001b[0m\u001b[0m\n\u001b[0m",
      "\u001b[1;31mAttributeError\u001b[0m: 'int' object has no attribute 'dtype'"
     ]
    }
   ],
   "source": [
    "I.shape[0].dtyp"
   ]
  },
  {
   "cell_type": "code",
   "execution_count": null,
   "metadata": {
    "collapsed": true
   },
   "outputs": [],
   "source": []
  }
 ],
 "metadata": {
  "kernelspec": {
   "display_name": "Python 3",
   "language": "python",
   "name": "python3"
  },
  "language_info": {
   "codemirror_mode": {
    "name": "ipython",
    "version": 3
   },
   "file_extension": ".py",
   "mimetype": "text/x-python",
   "name": "python",
   "nbconvert_exporter": "python",
   "pygments_lexer": "ipython3",
   "version": "3.6.2"
  }
 },
 "nbformat": 4,
 "nbformat_minor": 2
}
