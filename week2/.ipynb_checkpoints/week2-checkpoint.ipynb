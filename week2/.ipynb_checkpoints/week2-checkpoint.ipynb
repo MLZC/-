{
 "cells": [
  {
   "cell_type": "markdown",
   "metadata": {
    "collapsed": true
   },
   "source": [
    "# 产生10-30之间的随机矩阵X，X为300\\*1的矩阵"
   ]
  },
  {
   "cell_type": "code",
   "execution_count": 1,
   "metadata": {
    "scrolled": false
   },
   "outputs": [],
   "source": [
    "import numpy as np\n",
    "X = np.random.randint(10,30,size=(300,1))\n",
    "#print(X)"
   ]
  },
  {
   "cell_type": "markdown",
   "metadata": {},
   "source": [
    "# 直到X为300*10的矩阵"
   ]
  },
  {
   "cell_type": "code",
   "execution_count": 2,
   "metadata": {},
   "outputs": [
    {
     "data": {
      "text/plain": [
       "(300, 10)"
      ]
     },
     "execution_count": 2,
     "metadata": {},
     "output_type": "execute_result"
    }
   ],
   "source": [
    "tim = np.linspace(1,10,10)\n",
    "X = X * tim # 利用python中的广播对矩阵X进行处理，使X成为 大小为(300,10)的矩阵，并且X[i]=tim[i]*X[i]\n",
    "#print(X)\n",
    "X.shape"
   ]
  },
  {
   "cell_type": "markdown",
   "metadata": {},
   "source": [
    "# 向X中添加数据，一直到X为300*30"
   ]
  },
  {
   "cell_type": "code",
   "execution_count": 3,
   "metadata": {},
   "outputs": [
    {
     "data": {
      "text/plain": [
       "(300, 30)"
      ]
     },
     "execution_count": 3,
     "metadata": {},
     "output_type": "execute_result"
    }
   ],
   "source": [
    "X2 = np.random.randint(100,200,size=(300,20)) \n",
    "X = np.column_stack((X,X2))\n",
    "#print(X)\n",
    "X.shape"
   ]
  },
  {
   "cell_type": "markdown",
   "metadata": {
    "collapsed": true
   },
   "source": [
    "# 对X进行标准化处理"
   ]
  },
  {
   "cell_type": "code",
   "execution_count": 4,
   "metadata": {},
   "outputs": [],
   "source": [
    "av = np.average(X)\n",
    "st = np.std(X)\n",
    "X = (X-av)/st\n",
    "#print(X)"
   ]
  },
  {
   "cell_type": "markdown",
   "metadata": {},
   "source": [
    "# 对X进行PCA处理，得到特征向量A，处理后的数据B，观察A、B、X之间维数的关系"
   ]
  },
  {
   "cell_type": "code",
   "execution_count": 5,
   "metadata": {
    "collapsed": true
   },
   "outputs": [],
   "source": [
    "#零均值化\n",
    "def zeroMean(dataMat):      \n",
    "    meanVal=np.mean(dataMat,axis=0)     #按列求均值，即求各个特征的均值\n",
    "    newData=dataMat-meanVal\n",
    "    return newData,meanVal\n",
    "\n",
    "def pca(dataMat,n):\n",
    "    newData,meanVal=zeroMean(dataMat)\n",
    "    #求协方差矩阵,return ndarray；若rowvar非0，一列代表一个样本，为0，一行代表一个样本\n",
    "    covMat=np.cov(newData,rowvar=0)\n",
    "    \n",
    "    #求特征值和特征向量,特征向量是按列放的，即一列代表一个特征向量\n",
    "    eigVals,eigVects=np.linalg.eig(np.mat(covMat))\n",
    "    #对特征值从小到大排序\n",
    "    eigValIndice=np.argsort(eigVals)\n",
    "    #最大的n个特征值的下标\n",
    "    n_eigValIndice=eigValIndice[-1:-(n+1):-1]\n",
    "    #最大的n个特征值对应的特征向量\n",
    "    n_eigVect=eigVects[:,n_eigValIndice]\n",
    "    #低维特征空间的数据\n",
    "    lowDDataMat=newData*n_eigVect\n",
    "    #重构数据\n",
    "    reconMat=(lowDDataMat*n_eigVect.T)+meanVal  \n",
    "    return n_eigVect,lowDDataMat,reconMat"
   ]
  },
  {
   "cell_type": "code",
   "execution_count": 6,
   "metadata": {
    "collapsed": true
   },
   "outputs": [],
   "source": [
    "A,B,reconMat = pca(X,10)"
   ]
  },
  {
   "cell_type": "code",
   "execution_count": 9,
   "metadata": {},
   "outputs": [
    {
     "name": "stdout",
     "output_type": "stream",
     "text": [
      "A.shape (30, 10)\n",
      "B.shape (300, 10)\n",
      "X.shape (300, 30)\n"
     ]
    }
   ],
   "source": [
    "print(\"A.shape\",A.shape)\n",
    "print(\"B.shape\",B.shape)\n",
    "print(\"X.shape\",X.shape)"
   ]
  },
  {
   "cell_type": "markdown",
   "metadata": {},
   "source": [
    "综上所述 得出A,B,X的关系为 $X = BA.T$"
   ]
  }
 ],
 "metadata": {
  "kernelspec": {
   "display_name": "Python 3",
   "language": "python",
   "name": "python3"
  },
  "language_info": {
   "codemirror_mode": {
    "name": "ipython",
    "version": 3
   },
   "file_extension": ".py",
   "mimetype": "text/x-python",
   "name": "python",
   "nbconvert_exporter": "python",
   "pygments_lexer": "ipython3",
   "version": "3.6.2"
  }
 },
 "nbformat": 4,
 "nbformat_minor": 2
}
