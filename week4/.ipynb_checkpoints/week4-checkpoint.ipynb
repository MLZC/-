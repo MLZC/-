{
 "cells": [
  {
   "cell_type": "markdown",
   "metadata": {},
   "source": [
    "# 移动平均预测模型"
   ]
  },
  {
   "cell_type": "markdown",
   "metadata": {},
   "source": [
    "## 一次移动平均方法"
   ]
  },
  {
   "cell_type": "code",
   "execution_count": 1,
   "metadata": {
    "collapsed": true
   },
   "outputs": [],
   "source": [
    "import tensorflow as tf\n",
    "import numpy as np\n",
    "import matplotlib.pyplot as plt"
   ]
  },
  {
   "cell_type": "code",
   "execution_count": 2,
   "metadata": {
    "collapsed": true
   },
   "outputs": [],
   "source": [
    "# 一次平均移动Y_t为原始数据，N为选定数据个数\n",
    "def Single_Move_average(Y_t,N):\n",
    "    M_t1 = np.zeros((Y_t.shape[0] - N + 1,1))\n",
    "    for i in range(Y_t.shape[0] - N + 1):\n",
    "        M_t1[i] = np.mean(Y_t[i:i + N])\n",
    "    return M_t1"
   ]
  },
  {
   "cell_type": "code",
   "execution_count": 3,
   "metadata": {},
   "outputs": [
    {
     "name": "stdout",
     "output_type": "stream",
     "text": [
      "[[  970.        ]\n",
      " [ 1156.66666667]\n",
      " [ 1343.33333333]\n",
      " [ 1543.33333333]\n",
      " [ 1723.33333333]\n",
      " [ 1930.        ]\n",
      " [ 2153.33333333]]\n"
     ]
    }
   ],
   "source": [
    "Y_t = np.array([820,950,1140,1380,1510,1740,1920,2130,2410])\n",
    "M_t1 = Single_Move_average(Y_t,3)\n",
    "print (str(M_t1))"
   ]
  },
  {
   "cell_type": "markdown",
   "metadata": {},
   "source": [
    "## 二次移动平均方法求预测值(其中Y_t为1993-2001年的工商税金/万元)"
   ]
  },
  {
   "cell_type": "markdown",
   "metadata": {},
   "source": [
    "在一次移动平均的基础上，对M_t1进行一次平均.\n",
    "\n",
    "二次移动平均法的线性趋势预测模型如下:\n",
    "$$ \\hat{y}_{t+\\tau}=\\hat{a}_t+\\hat{b}_{t}\\tau$$\n",
    "$$\\hat{a}_t=2M_t^{(1)}-M_t^{(2)}$$\n",
    "$$b_t=\\frac{2}{N-1}(M_t^{(1)}-M_t^{(2)})$$"
   ]
  },
  {
   "cell_type": "code",
   "execution_count": 4,
   "metadata": {
    "collapsed": true
   },
   "outputs": [],
   "source": [
    "def Second_Move_average(Y_t,N,tau):\n",
    "    # tau 为向后预测的年份数\n",
    "    M_t1 = Single_Move_average(Y_t,N)\n",
    "    M_t2 = Single_Move_average(M_t1,N)\n",
    "    a_t = 2 * M_t1[-1] - M_t2[-1]\n",
    "    b_t = 2 / (N-1) * (M_t1[-1] - M_t2[-1])\n",
    "    Y_predict = a_t + b_t * tau\n",
    "    return Y_predict\n",
    "    "
   ]
  },
  {
   "cell_type": "code",
   "execution_count": 5,
   "metadata": {},
   "outputs": [
    {
     "name": "stdout",
     "output_type": "stream",
     "text": [
      "2004年工商税金的预测值为: [ 3024.44444444]\n"
     ]
    }
   ],
   "source": [
    "Y_predict = Second_Move_average(Y_t,3,3)\n",
    "print (\"2004年工商税金的预测值为:\",str(Y_predict))"
   ]
  },
  {
   "cell_type": "markdown",
   "metadata": {},
   "source": [
    "# 指数平滑预测模型 "
   ]
  },
  {
   "cell_type": "markdown",
   "metadata": {},
   "source": [
    "   初始值的确定，即第一期的预测值。一般原数列的项数较多时（大于15项），可以选用第一期的观察值或选用比第一期前一期的观察值作为初始值。如果原数列的项数较少时（小于15项），可以选取最初几期（一般为前三期）的平均数作为初始值。指数平滑方法的选用，一般可根据原数列散点图呈现的趋势来确定。如呈现直线趋势，选用二次指数平滑法；如呈现抛物线趋势，选用三次指数平滑法。或者，当时间序列的数据经二次指数平滑处理后，仍有曲率时，应用三次指数平滑法。"
   ]
  },
  {
   "cell_type": "markdown",
   "metadata": {},
   "source": [
    "## 一次指数平滑法 "
   ]
  },
  {
   "cell_type": "markdown",
   "metadata": {},
   "source": [
    "$$S_t^{(1)} = \\alpha y_t + (1-\\alpha)S_{t-1}^{(1)}$$"
   ]
  },
  {
   "cell_type": "code",
   "execution_count": 6,
   "metadata": {
    "collapsed": true
   },
   "outputs": [],
   "source": [
    "def Single_exponential_smoothing(alpha,Y_t):\n",
    "    # alpha 为加权系数范围(0,1) Y_t 为原始数据\n",
    "    S_t1 = np.zeros((Y_t.shape[0],1))\n",
    "    S_t1[0] = np.mean(Y_t[0:2])\n",
    "    i = 0\n",
    "    while(i < Y_t.shape[0]-1):\n",
    "        S_t1[i+1] = alpha * Y_t[i + 1] + (1 - alpha)*S_t1[i]\n",
    "        i+=1\n",
    "    return S_t1"
   ]
  },
  {
   "cell_type": "code",
   "execution_count": 7,
   "metadata": {},
   "outputs": [
    {
     "name": "stdout",
     "output_type": "stream",
     "text": [
      "一次平均平滑法之后的值为:\n",
      "[[ 124.        ]\n",
      " [ 125.6       ]\n",
      " [ 127.36      ]\n",
      " [ 133.216     ]\n",
      " [ 135.9296    ]\n",
      " [ 143.15776   ]\n",
      " [ 153.894656  ]\n",
      " [ 170.7367936 ]\n",
      " [ 186.44207616]\n",
      " [ 201.8652457 ]\n",
      " [ 212.31914742]\n",
      " [ 225.39148845]]\n"
     ]
    }
   ],
   "source": [
    "# X为年份 Y_t 为某商场营业额的原始数据\n",
    "X = np.arange(1990,2002).reshape(-1,1)\n",
    "Y_t = np.array([120,128,130,142,140,154,170,196,210,225,228,245]).reshape(-1,1)\n",
    "S_t1 = Single_exponential_smoothing(0.4,Y_t)\n",
    "print (\"一次平均平滑法之后的值为:\")\n",
    "print (str(S_t1))"
   ]
  },
  {
   "cell_type": "markdown",
   "metadata": {},
   "source": [
    "## 二次指数平滑法求预测值"
   ]
  },
  {
   "cell_type": "markdown",
   "metadata": {},
   "source": [
    "二次指数平滑法即在第一次指数平滑法的基础上对$S_t^{(1)}$在进行一次指数平滑.\n",
    "\n",
    "二次指数平滑法的线性趋势预测模型如下:\n",
    "$$S_t^{(2)} = \\alpha S_t^{(1)} + (1-\\alpha)S_{t-1}^{(2)}$$\n",
    "$$\\hat {y}_{t+T} = a_t+b_tT~~~~(T=1,2,......,t)$$\n",
    "$$a_t=2S_t^{(1)}-S_t^{(2)}$$\n",
    "$$b_t=\\frac{\\alpha}{1-\\alpha}(S_t^{(1)}-S_t^{(2)})$$"
   ]
  },
  {
   "cell_type": "code",
   "execution_count": 8,
   "metadata": {
    "collapsed": true
   },
   "outputs": [],
   "source": [
    "def Second_exponential_smoothing(alpha,Y_t,T):\n",
    "    # T 为向后预测的年份数 \n",
    "    S_t1 = Single_exponential_smoothing(alpha,Y_t)\n",
    "    S_t2 = Single_exponential_smoothing(alpha,S_t1)\n",
    "    i = 0\n",
    "    Y_predict = np.zeros((Y_t.shape[0],1))\n",
    "    while (i < Y_t.shape[0]):\n",
    "        a_t = 2 * S_t1[-1] - S_t2[-1]\n",
    "        b_t = alpha / (1 - alpha) * (S_t1[-1] - S_t2[-1])\n",
    "        Y_predict[i] = a_t +  b_t * ( - Y_t.shape[0] + 1 + i)\n",
    "        i+=1\n",
    "    Y_predict_T = a_t +  b_t * T\n",
    "    return Y_predict,Y_predict_T"
   ]
  },
  {
   "cell_type": "code",
   "execution_count": 9,
   "metadata": {
    "collapsed": true
   },
   "outputs": [],
   "source": [
    "#预测2004年的营业额\n",
    "Y_predict,Y_predict_T = Second_exponential_smoothing(0.4,Y_t,3) "
   ]
  },
  {
   "cell_type": "code",
   "execution_count": 10,
   "metadata": {},
   "outputs": [
    {
     "name": "stdout",
     "output_type": "stream",
     "text": [
      "预测值Y_predict为:\n",
      "[[ 104.39516019]\n",
      " [ 117.1316158 ]\n",
      " [ 129.8680714 ]\n",
      " [ 142.60452701]\n",
      " [ 155.34098262]\n",
      " [ 168.07743822]\n",
      " [ 180.81389383]\n",
      " [ 193.55034943]\n",
      " [ 206.28680504]\n",
      " [ 219.02326065]\n",
      " [ 231.75971625]\n",
      " [ 244.49617186]]\n",
      "预测值Y_predict_T,2004年的营业额为:\n",
      "[ 282.70553868]\n"
     ]
    },
    {
     "data": {
      "image/png": "[encoded data removed]",
      "text/plain": [
       "<matplotlib.figure.Figure at 0x1f96cdbcb38>"
      ]
     },
     "metadata": {},
     "output_type": "display_data"
    }
   ],
   "source": [
    "print (\"预测值Y_predict为:\")\n",
    "print (str(Y_predict))\n",
    "print (\"预测值Y_predict_T,2004年的营业额为:\")\n",
    "print (str(Y_predict_T))\n",
    "\n",
    "plt.scatter(X,Y_t,color='red')\n",
    "plt.scatter(X,Y_predict,color='blue')\n",
    "plt.title(\"Compare Graph\") #蓝色为预测值 红色为实际值\n",
    "plt.show()"
   ]
  },
  {
   "cell_type": "markdown",
   "metadata": {},
   "source": [
    "# BP神经网络 "
   ]
  },
  {
   "cell_type": "markdown",
   "metadata": {},
   "source": [
    " 借用TensorFlow很容易就能搭建一个神经网络出来,下面建立了一个有一个输入层,三个隐藏层,一个输出层的的神经网络.用来对函数$y=1+sin(\\frac{\\pi}{4}  x)~~~~x \\in [-2,2]$ 进行拟合,正向传播中激活函数用relu.反向传播采用梯度下降法求解最小损失函数.\n",
    "\n",
    "使用TensorFlow搭建神经网络主要分为以下步骤:\n",
    "1. 训练的数据\n",
    "2. 定义节点准备接收数据\n",
    "3. 定义神经层：隐藏层和预测层\n",
    "4. 定义 loss 表达式\n",
    "5. 选择 optimizer 使 loss 达到最小"
   ]
  },
  {
   "cell_type": "code",
   "execution_count": 12,
   "metadata": {},
   "outputs": [
    {
     "data": {
      "image/png": "[encoded data removed]",
      "text/plain": [
       "<matplotlib.figure.Figure at 0x1f9fcd9bcf8>"
      ]
     },
     "metadata": {},
     "output_type": "display_data"
    }
   ],
   "source": [
    "# 创建一个神经网络层\n",
    "def add_layer(input, in_size, out_size, activation_function = None):\n",
    "    \"\"\"\n",
    "    :param input:\n",
    "        神经网络层的输入\n",
    "    :param in_zize:\n",
    "        输入数据的大小\n",
    "    :param out_size:\n",
    "        输出数据的大小\n",
    "    :param activation_function:\n",
    "        神经网络激活函数，默认没有\n",
    "    \"\"\"\n",
    "    with tf.name_scope('layer'):\n",
    "        with tf.name_scope('weights'):\n",
    "            # 定义神经网络的初始化权重\n",
    "            Weights = tf.Variable(tf.random_normal([in_size, out_size]))\n",
    "        with tf.name_scope('biases'):\n",
    "            # 定义神经网络的偏置\n",
    "            biases = tf.Variable(tf.zeros([1, out_size]) + 0.1)\n",
    "        with tf.name_scope('W_mul_x_plus_b'):\n",
    "            # 计算w*x+b\n",
    "            W_mul_x_plus_b = tf.matmul(input, Weights) + biases\n",
    "        # 根据是否有激活函数进行处理\n",
    "        if activation_function is None:\n",
    "            output = W_mul_x_plus_b\n",
    "        else:\n",
    "            output = activation_function(W_mul_x_plus_b)\n",
    "        return output\n",
    "# 创建一个具有输入层、隐藏层*3、输出层的5层神经网络，神经元个数分别为1,3,3,3,1\n",
    "# 创建只有一个特征的输入数据，数据数目为300，输入层\n",
    "x_data = np.linspace(-2, 2, 300)[:, np.newaxis]\n",
    "\n",
    "# 创建输入数据对应的输出\n",
    "y_data = np.sin(np.pi/4*x_data) + 1\n",
    "\n",
    "with tf.name_scope('input'):\n",
    "    # 定义输入数据，None是样本数目，表示多少输入数据都行，1是输入数据的特征数目\n",
    "    xs = tf.placeholder(tf.float32, [None, 1], name = 'x_input')\n",
    "    # 定义输出数据，与xs同理\n",
    "    ys = tf.placeholder(tf.float32, [None, 1], name = 'y_input')\n",
    "\n",
    "# 定义三个隐藏层 都采用RELU激活函数\n",
    "hidden_layer = add_layer(xs, 1, 3, activation_function = tf.nn.relu)\n",
    "hidden_layer2 = add_layer(hidden_layer, 3, 3, activation_function = tf.nn.relu)\n",
    "hidden_layer3 = add_layer(hidden_layer2, 3, 3, activation_function = tf.nn.relu)\n",
    "\n",
    "\n",
    "# 定义输出层\n",
    "prediction = add_layer(hidden_layer3, 3, 1, activation_function = tf.nn.relu)\n",
    "\n",
    "# 求解神经网络参数\n",
    "\n",
    "# 定义损失函数\n",
    "with tf.name_scope('loss'):\n",
    "    loss = tf.reduce_mean(tf.reduce_sum(tf.square(ys - prediction), \n",
    "                                        reduction_indices = [1]))\n",
    "# 定义训练过程\n",
    "with tf.name_scope('train'):\n",
    "    train_step = tf.train.GradientDescentOptimizer(0.1).minimize(loss)\n",
    "# 变量初始化\n",
    "init = tf.global_variables_initializer()\n",
    "# 定义Session\n",
    "sess = tf.Session()\n",
    "# 执行初始化工作\n",
    "sess.run(init)\n",
    "\n",
    "# 绘制求解的曲线\n",
    "fig = plt.figure()\n",
    "ax = fig.add_subplot(1,1,1)\n",
    "ax.scatter(x_data, y_data,label=\"real\")\n",
    "plt.ion()\n",
    "\n",
    "# 进行训练\n",
    "for i in range(1000):\n",
    "    # 执行训练，并传入数据\n",
    "    sess.run(train_step, feed_dict = {xs: x_data, ys: y_data})\n",
    "    if i % 50 == 0:\n",
    "        try:\n",
    "            ax.lines.remove(lines[0])\n",
    "        except Exception:\n",
    "            pass\n",
    "\n",
    "        #print (sess.run(loss, feed_dict = {xs: x_data, ys: y_data}))\n",
    "        # 计算预测值\n",
    "        prediction_value = sess.run(prediction, feed_dict = {xs: x_data})\n",
    "        #绘制预测值\n",
    "        lines = ax.plot(x_data, prediction_value, 'r-', lw = 5,label=\"predit\")\n",
    "        plt.pause(0.1)\n",
    "# 将网络结构图写到文件中\n",
    "writer = tf.summary.FileWriter('log',sess.graph)\n",
    "tf.name_scope('name')\n",
    "plt.title(\"Compare Graph\")\n",
    "plt.legend()\n",
    "plt.show()\n",
    "# 关闭Session\n",
    "sess.close()"
   ]
  }
 ],
 "metadata": {
  "kernelspec": {
   "display_name": "Python 3",
   "language": "python",
   "name": "python3"
  },
  "language_info": {
   "codemirror_mode": {
    "name": "ipython",
    "version": 3
   },
   "file_extension": ".py",
   "mimetype": "text/x-python",
   "name": "python",
   "nbconvert_exporter": "python",
   "pygments_lexer": "ipython3",
   "version": "3.6.2"
  }
 },
 "nbformat": 4,
 "nbformat_minor": 2
}
