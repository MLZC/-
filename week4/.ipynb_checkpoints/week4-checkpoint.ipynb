{
 "cells": [
  {
   "cell_type": "markdown",
   "metadata": {},
   "source": [
    "# 移动平均预测模型"
   ]
  },
  {
   "cell_type": "markdown",
   "metadata": {},
   "source": [
    "## 一次移动平均方法"
   ]
  },
  {
   "cell_type": "code",
   "execution_count": 185,
   "metadata": {
    "collapsed": true
   },
   "outputs": [],
   "source": [
    "import numpy as np\n",
    "import matplotlib.pyplot as plt"
   ]
  },
  {
   "cell_type": "code",
   "execution_count": 2,
   "metadata": {
    "collapsed": true
   },
   "outputs": [],
   "source": [
    "# 一次平均移动Y_t为原始数据，N为选定数据个数\n",
    "def Single_Move_average(Y_t,N):\n",
    "    M_t1 = np.zeros((Y_t.shape[0] - N + 1,1))\n",
    "    for i in range(Y_t.shape[0] - N + 1):\n",
    "        M_t1[i] = np.mean(Y_t[i:i + N])\n",
    "    return M_t1"
   ]
  },
  {
   "cell_type": "code",
   "execution_count": 3,
   "metadata": {},
   "outputs": [
    {
     "name": "stdout",
     "output_type": "stream",
     "text": [
      "[[  970.        ]\n",
      " [ 1156.66666667]\n",
      " [ 1343.33333333]\n",
      " [ 1543.33333333]\n",
      " [ 1723.33333333]\n",
      " [ 1930.        ]\n",
      " [ 2153.33333333]]\n"
     ]
    }
   ],
   "source": [
    "Y_t = np.array([820,950,1140,1380,1510,1740,1920,2130,2410])\n",
    "M_t1 = Single_Move_average(Y_t,3)\n",
    "print (M_t1)"
   ]
  },
  {
   "cell_type": "markdown",
   "metadata": {},
   "source": [
    "## 二次移动平均方法求预测值(其中Y_t为1993-2001年的工商税金/万元)"
   ]
  },
  {
   "cell_type": "markdown",
   "metadata": {},
   "source": [
    "在一次移动平均的基础上，对M_t1进行一次平均.\n",
    "\n",
    "二次移动平均法的线性趋势预测模型如下:\n",
    "$$ \\hat{y}_{t+\\tau}=\\hat{a}_t+\\hat{b}_{t}\\tau$$\n",
    "$$\\hat{a}_t=2M_t^{(1)}-M_t^{(2)}$$\n",
    "$$b_t=\\frac{2}{N-1}(M_t^{(1)}-M_t^{(2)})$$"
   ]
  },
  {
   "cell_type": "code",
   "execution_count": 77,
   "metadata": {
    "collapsed": true
   },
   "outputs": [],
   "source": [
    "def Second_Move_average(Y_t,N,tau):\n",
    "    # tau 为向后预测的年份数\n",
    "    M_t1 = Single_Move_average(Y_t,N)\n",
    "    M_t2 = Single_Move_average(M_t1,N)\n",
    "    a_t = 2 * M_t1[-1] - M_t2[-1]\n",
    "    b_t = 2 / (N-1) * (M_t1[-1] - M_t2[-1])\n",
    "    Y_predict = a_t + b_t * tau\n",
    "    return Y_predict\n",
    "    "
   ]
  },
  {
   "cell_type": "code",
   "execution_count": 69,
   "metadata": {},
   "outputs": [
    {
     "name": "stdout",
     "output_type": "stream",
     "text": [
      "[ 278.]\n"
     ]
    }
   ],
   "source": [
    "Y_predict = Second_Move_average(Y_t,3,3)\n",
    "print (Y_predict)"
   ]
  },
  {
   "cell_type": "markdown",
   "metadata": {},
   "source": [
    "# 指数平滑预测模型 "
   ]
  },
  {
   "cell_type": "markdown",
   "metadata": {},
   "source": [
    "   初始值的确定，即第一期的预测值。一般原数列的项数较多时（大于15项），可以选用第一期的观察值或选用比第一期前一期的观察值作为初始值。如果原数列的项数较少时（小于15项），可以选取最初几期（一般为前三期）的平均数作为初始值。指数平滑方法的选用，一般可根据原数列散点图呈现的趋势来确定。如呈现直线趋势，选用二次指数平滑法；如呈现抛物线趋势，选用三次指数平滑法。或者，当时间序列的数据经二次指数平滑处理后，仍有曲率时，应用三次指数平滑法。"
   ]
  },
  {
   "cell_type": "markdown",
   "metadata": {},
   "source": [
    "## 一次指数平滑法 "
   ]
  },
  {
   "cell_type": "markdown",
   "metadata": {},
   "source": [
    "$$S_t^{(1)} = \\alpha y_t + (1-\\alpha)S_{t-1}^{(1)}$$"
   ]
  },
  {
   "cell_type": "code",
   "execution_count": 147,
   "metadata": {},
   "outputs": [],
   "source": [
    "def Single_exponential_smoothing(alpha,Y_t):\n",
    "    # alpha 为加权系数范围(0,1) Y_t 为原始数据\n",
    "    S_t1 = np.zeros((Y_t.shape[0],1))\n",
    "    S_t1[0] = np.mean(Y_t[0:2])\n",
    "    i = 0\n",
    "    while(i < Y_t.shape[0]-1):\n",
    "        S_t1[i+1] = alpha * Y_t[i + 1] + (1 - alpha)*S_t1[i]\n",
    "        i+=1\n",
    "    return S_t1"
   ]
  },
  {
   "cell_type": "code",
   "execution_count": 191,
   "metadata": {},
   "outputs": [
    {
     "name": "stdout",
     "output_type": "stream",
     "text": [
      "一次平均平滑法之后的值为:\n",
      "[[ 124.        ]\n",
      " [ 125.6       ]\n",
      " [ 127.36      ]\n",
      " [ 133.216     ]\n",
      " [ 135.9296    ]\n",
      " [ 143.15776   ]\n",
      " [ 153.894656  ]\n",
      " [ 170.7367936 ]\n",
      " [ 186.44207616]\n",
      " [ 201.8652457 ]\n",
      " [ 212.31914742]\n",
      " [ 225.39148845]]\n"
     ]
    }
   ],
   "source": [
    "# X为年份 Y_t 为某商场营业额的原始数据\n",
    "X = np.arange(1990,2002).reshape(-1,1)\n",
    "Y_t = np.array([120,128,130,142,140,154,170,196,210,225,228,245]).reshape(-1,1)\n",
    "S_t1 = Single_exponential_smoothing(0.4,Y_t)\n",
    "print (\"一次平均平滑法之后的值为:\")\n",
    "print (S_t1)"
   ]
  },
  {
   "cell_type": "markdown",
   "metadata": {},
   "source": [
    "## 二次指数平滑法求预测值"
   ]
  },
  {
   "cell_type": "markdown",
   "metadata": {},
   "source": [
    "二次指数平滑法即在第一次指数平滑法的基础上对$S_t^{(1)}$在进行一次指数平滑.\n",
    "\n",
    "二次指数平滑法的线性趋势预测模型如下:\n",
    "$$S_t^{(2)} = \\alpha S_t^{(1)} + (1-\\alpha)S_{t-1}^{(2)}$$\n",
    "$$\\hat {y}_{t+T} = a_t+b_tT~~~~(T=1,2,......,t)$$\n",
    "$$a_t=2S_t^{(1)}-S_t^{(2)}$$\n",
    "$$b_t=\\frac{\\alpha}{1-\\alpha}(S_t^{(1)}-S_t^{(2)})$$"
   ]
  },
  {
   "cell_type": "code",
   "execution_count": 195,
   "metadata": {},
   "outputs": [],
   "source": [
    "def Second_exponential_smoothing(alpha,Y_t,T):\n",
    "    # T 为向后预测的年份数 \n",
    "    S_t1 = Single_exponential_smoothing(alpha,Y_t)\n",
    "    S_t2 = Single_exponential_smoothing(alpha,S_t1)\n",
    "    i = 0\n",
    "    Y_predict = np.zeros((Y_t.shape[0],1))\n",
    "    while (i < Y_t.shape[0]):\n",
    "        a_t = 2 * S_t1[-1] - S_t2[-1]\n",
    "        b_t = alpha / (1 - alpha) * (S_t1[-1] - S_t2[-1])\n",
    "        Y_predict[i] = a_t +  b_t * ( - Y_t.shape[0] + 1 + i)\n",
    "        i+=1\n",
    "    Y_predict_T = a_t +  b_t * T\n",
    "    return Y_predict,Y_predict_T"
   ]
  },
  {
   "cell_type": "code",
   "execution_count": 196,
   "metadata": {},
   "outputs": [],
   "source": [
    "Y_predict,Y_predict_T = Second_exponential_smoothing(0.4,Y_t,3) #预测2002年的营业额"
   ]
  },
  {
   "cell_type": "code",
   "execution_count": 197,
   "metadata": {},
   "outputs": [
    {
     "name": "stdout",
     "output_type": "stream",
     "text": [
      "预测值Y_predict为:\n",
      "[[ 104.39516019]\n",
      " [ 117.1316158 ]\n",
      " [ 129.8680714 ]\n",
      " [ 142.60452701]\n",
      " [ 155.34098262]\n",
      " [ 168.07743822]\n",
      " [ 180.81389383]\n",
      " [ 193.55034943]\n",
      " [ 206.28680504]\n",
      " [ 219.02326065]\n",
      " [ 231.75971625]\n",
      " [ 244.49617186]]\n",
      "预测值Y_predict_T,2004年的营业额为:\n",
      "[ 282.70553868]\n"
     ]
    },
    {
     "data": {
      "image/png": "[encoded data removed]",
      "text/plain": [
       "<matplotlib.figure.Figure at 0x2097510a9e8>"
      ]
     },
     "metadata": {},
     "output_type": "display_data"
    }
   ],
   "source": [
    "print (\"预测值Y_predict为:\")\n",
    "print (Y_predict)\n",
    "print (\"预测值Y_predict_T,2004年的营业额为:\")\n",
    "print (Y_predict_T)\n",
    "\n",
    "plt.rcParams[\"font.family\"] = \"SimHei\"\n",
    "plt.scatter(X,Y_t,color='red')\n",
    "plt.scatter(X,Y_predict,color='blue')\n",
    "plt.title(\"对比图\") #蓝色为预测值 红色为实际值\n",
    "plt.show()"
   ]
  }
 ],
 "metadata": {
  "kernelspec": {
   "display_name": "Python 3",
   "language": "python",
   "name": "python3"
  },
  "language_info": {
   "codemirror_mode": {
    "name": "ipython",
    "version": 3
   },
   "file_extension": ".py",
   "mimetype": "text/x-python",
   "name": "python",
   "nbconvert_exporter": "python",
   "pygments_lexer": "ipython3",
   "version": "3.6.2"
  }
 },
 "nbformat": 4,
 "nbformat_minor": 2
}
