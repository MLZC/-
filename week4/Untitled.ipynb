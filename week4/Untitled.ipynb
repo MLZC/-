{
 "cells": [
  {
   "cell_type": "markdown",
   "metadata": {},
   "source": [
    "# 移动平均预测模型"
   ]
  },
  {
   "cell_type": "markdown",
   "metadata": {},
   "source": [
    "## 一次移动平均方法"
   ]
  },
  {
   "cell_type": "code",
   "execution_count": 1,
   "metadata": {
    "collapsed": true
   },
   "outputs": [],
   "source": [
    "import numpy as np"
   ]
  },
  {
   "cell_type": "code",
   "execution_count": 34,
   "metadata": {},
   "outputs": [],
   "source": [
    "# 一次平均移动Y_t为原始数据，N为选定数据个数\n",
    "def Single_Move_average(Y_t,N):\n",
    "    M_t1 = np.zeros((Y_t.shape[0] - N + 1,1))\n",
    "    for i in range(Y_t.shape[0] - N + 1):\n",
    "        M_t1[i] = np.mean(Y_t[i:i + N])\n",
    "    return M_t1"
   ]
  },
  {
   "cell_type": "code",
   "execution_count": 35,
   "metadata": {},
   "outputs": [
    {
     "name": "stdout",
     "output_type": "stream",
     "text": [
      "[[  970.        ]\n",
      " [ 1156.66666667]\n",
      " [ 1343.33333333]\n",
      " [ 1543.33333333]\n",
      " [ 1723.33333333]\n",
      " [ 1930.        ]\n",
      " [ 2153.33333333]]\n"
     ]
    }
   ],
   "source": [
    "Y_t = np.array([820,950,1140,1380,1510,1740,1920,2130,2410])\n",
    "M_t1 = Single_Move_average(Y_t,3)\n",
    "print (M_t1)"
   ]
  },
  {
   "cell_type": "markdown",
   "metadata": {},
   "source": [
    "## 二次移动平均方法求预测值(其中Y_t为1993-2001年的工商税金/万元)"
   ]
  },
  {
   "cell_type": "markdown",
   "metadata": {},
   "source": [
    "在一次移动平均的基础上，对M_t1进行一次平均\n",
    "$$ \\hat{y}_{t+\\tau}=\\hat{a}_t+\\hat{b}_{t}\\tau$$\n",
    "$$\\hat{a}_t=2M_t^{(1)}-M_t^{(2)}$$\n",
    "$$b_t=\\frac{2}{N-1}(M_t^{(1)}-M_t^{(2)})$$"
   ]
  },
  {
   "cell_type": "code",
   "execution_count": 81,
   "metadata": {},
   "outputs": [],
   "source": [
    "def Two_Move_average(Y_t,N,tau):\n",
    "    M_t1 = Single_Move_average(Y_t,N)\n",
    "    M_t2 = Single_Move_average(M_t1,N)\n",
    "    a_t = 2 * M_t1[-1] - M_t2[-1]\n",
    "    b_t = 2 / (N-1) * (M_t1[-1] - M_t2[-1])\n",
    "    Y_predict = a_t + b_t * tau\n",
    "    return Y_predict\n",
    "    "
   ]
  },
  {
   "cell_type": "code",
   "execution_count": 86,
   "metadata": {},
   "outputs": [
    {
     "name": "stdout",
     "output_type": "stream",
     "text": [
      "[ 3024.44444444]\n"
     ]
    }
   ],
   "source": [
    "Y_predict = Two_Move_average(Y_t,3,3)\n",
    "print (Y_predict)"
   ]
  },
  {
   "cell_type": "markdown",
   "metadata": {},
   "source": [
    "# 指数平滑预测模型 "
   ]
  },
  {
   "cell_type": "markdown",
   "metadata": {},
   "source": [
    "   初始值的确定，即第一期的预测值。一般原数列的项数较多时（大于15项），可以选用第一期的观察值或选用比第一期前一期的观察值作为初始值。如果原数列的项数较少时（小于15项），可以选取最初几期（一般为前三期）的平均数作为初始值。指数平滑方法的选用，一般可根据原数列散点图呈现的趋势来确定。如呈现直线趋势，选用二次指数平滑法；如呈现抛物线趋势，选用三次指数平滑法。或者，当时间序列的数据经二次指数平滑处理后，仍有曲率时，应用三次指数平滑法。"
   ]
  },
  {
   "cell_type": "markdown",
   "metadata": {},
   "source": [
    "## 一次指数平滑法 "
   ]
  },
  {
   "cell_type": "markdown",
   "metadata": {},
   "source": [
    "$$S_t^{(1)} = \\alpha y_t + (1-\\alpha)S_{t-1}^{(1)}$$"
   ]
  },
  {
   "cell_type": "code",
   "execution_count": 87,
   "metadata": {
    "collapsed": true
   },
   "outputs": [],
   "source": [
    "def Single_exponential_smoothing(alpha,Y_t):\n",
    "    S_t = np.zeros((Y_t.shape[0],1))\n",
    "    S_t[0] = np.means(Y_t[0:2])\n",
    "    for i in range(Y_t.shape[0]):\n",
    "        S_t[i] = alpha * Y_t[i] + (1 - alpha)*S_t[i]\n",
    "    return S_t"
   ]
  },
  {
   "cell_type": "code",
   "execution_count": null,
   "metadata": {
    "collapsed": true
   },
   "outputs": [],
   "source": []
  }
 ],
 "metadata": {
  "kernelspec": {
   "display_name": "Python 3",
   "language": "python",
   "name": "python3"
  },
  "language_info": {
   "codemirror_mode": {
    "name": "ipython",
    "version": 3
   },
   "file_extension": ".py",
   "mimetype": "text/x-python",
   "name": "python",
   "nbconvert_exporter": "python",
   "pygments_lexer": "ipython3",
   "version": "3.6.3"
  }
 },
 "nbformat": 4,
 "nbformat_minor": 2
}
