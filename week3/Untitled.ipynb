{
 "cells": [
  {
   "cell_type": "code",
   "execution_count": 78,
   "metadata": {
    "collapsed": true
   },
   "outputs": [],
   "source": [
    "import numpy as np\n",
    "import matplotlib.pyplot as plt"
   ]
  },
  {
   "cell_type": "code",
   "execution_count": 7,
   "metadata": {
    "collapsed": true
   },
   "outputs": [],
   "source": [
    "X = np.arange(1991,2003).reshape(-1,1)"
   ]
  },
  {
   "cell_type": "code",
   "execution_count": 8,
   "metadata": {
    "collapsed": true
   },
   "outputs": [],
   "source": [
    "Y = np.array([1659,1989,2195,2255,2329,2375,2364,2354,2418,2534,2568,2835]).reshape(-1,1)"
   ]
  },
  {
   "cell_type": "code",
   "execution_count": 13,
   "metadata": {
    "collapsed": true
   },
   "outputs": [],
   "source": [
    "# 求X Y 的平均值 X_mean Y_mean\n",
    "X_mean = np.mean(X)\n",
    "Y_mean = np.mean(Y)"
   ]
  },
  {
   "cell_type": "code",
   "execution_count": 19,
   "metadata": {
    "collapsed": true
   },
   "outputs": [],
   "source": [
    "# 计算残差 l_xx l_yy l_xy\n",
    "l_xx = np.sum((X - X_mean) ** 2)\n",
    "l_yy = np.sum((Y - Y_mean) ** 2)\n",
    "l_xy = np.sum((X - X_mean) * (Y-Y_mean))"
   ]
  },
  {
   "cell_type": "code",
   "execution_count": 22,
   "metadata": {
    "collapsed": true
   },
   "outputs": [],
   "source": [
    "# 计算系数 b_hat a_hat\n",
    "b_hat = l_xy / l_xx\n",
    "a_hat = Y_mean - b_hat * X_mean"
   ]
  },
  {
   "cell_type": "code",
   "execution_count": 47,
   "metadata": {},
   "outputs": [
    {
     "name": "stdout",
     "output_type": "stream",
     "text": [
      "a_hat的值为：-147058.564103 b_hat的值为：74.8216783217\n",
      "回归方程为：y_hat=-147058.564103+74.8216783217x\n"
     ]
    }
   ],
   "source": [
    "print(\"a_hat的值为：\"+str(a_hat),\"b_hat的值为：\"+str(b_hat))\n",
    "print(\"回归方程为：y_hat=\"+str(a_hat)+\"+\"+str(b_hat)+\"x\")"
   ]
  },
  {
   "cell_type": "code",
   "execution_count": 64,
   "metadata": {},
   "outputs": [
    {
     "name": "stdout",
     "output_type": "stream",
     "text": [
      "0.915787159584\n"
     ]
    }
   ],
   "source": [
    "# 相关性检验\n",
    "R = l_xy/(l_xx * l_yy) ** 0.5\n",
    "print (R)# R = 0.9158 接近+1 属于正相关，x y之间存在显著的线性关系"
   ]
  },
  {
   "cell_type": "code",
   "execution_count": 52,
   "metadata": {
    "collapsed": true
   },
   "outputs": [],
   "source": [
    "def A_lin(X):\n",
    "    y_hat = a_hat + b_hat * X\n",
    "    return y_hat"
   ]
  },
  {
   "cell_type": "code",
   "execution_count": 73,
   "metadata": {},
   "outputs": [
    {
     "name": "stdout",
     "output_type": "stream",
     "text": [
      "预测区间为：[2548.09142051,3220.06708765]\n"
     ]
    }
   ],
   "source": [
    "# 预测分析\n",
    "Y_2004 = A_lin(2004)\n",
    "# Y_2004 的95%的预测空间\n",
    "\n",
    "sigma = ((l_yy - b_hat * l_xy) / (12 - 2)) ** 0.5\n",
    "delte = 2.228 * sigma * (1 + 1/12 + (2004 - X_mean) ** 2 / l_xx) ** 0.5 # 通过查 t分为数表得 t_0.025(10) = 2.228\n",
    "print(\"预测区间为：[\"+str(Y_2004 - delte)+\",\"+str(Y_2004 + delte)+\"]\")"
   ]
  },
  {
   "cell_type": "code",
   "execution_count": 74,
   "metadata": {
    "collapsed": true
   },
   "outputs": [],
   "source": [
    "Y_p = A_lin(X)"
   ]
  },
  {
   "cell_type": "code",
   "execution_count": 88,
   "metadata": {},
   "outputs": [
    {
     "data": {
      "image/png": "[encoded data removed]",
      "text/plain": [
       "<matplotlib.figure.Figure at 0x1c444629a90>"
      ]
     },
     "metadata": {},
     "output_type": "display_data"
    }
   ],
   "source": [
    "plt.scatter(X,Y,color='red')\n",
    "plt.scatter(X,Y_p,color='blue')\n",
    "plt.title(\"graph\")\n",
    "plt.show()"
   ]
  }
 ],
 "metadata": {
  "kernelspec": {
   "display_name": "Python 3",
   "language": "python",
   "name": "python3"
  },
  "language_info": {
   "codemirror_mode": {
    "name": "ipython",
    "version": 3
   },
   "file_extension": ".py",
   "mimetype": "text/x-python",
   "name": "python",
   "nbconvert_exporter": "python",
   "pygments_lexer": "ipython3",
   "version": "3.6.2"
  }
 },
 "nbformat": 4,
 "nbformat_minor": 2
}
