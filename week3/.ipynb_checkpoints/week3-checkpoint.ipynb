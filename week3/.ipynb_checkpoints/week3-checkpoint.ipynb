{
 "cells": [
  {
   "cell_type": "markdown",
   "metadata": {},
   "source": [
    "# 一元线性回归"
   ]
  },
  {
   "cell_type": "code",
   "execution_count": 1,
   "metadata": {},
   "outputs": [],
   "source": [
    "#coding:utf-8\n",
    "import numpy as np\n",
    "import matplotlib.pyplot as plt"
   ]
  },
  {
   "cell_type": "code",
   "execution_count": 2,
   "metadata": {
    "collapsed": true
   },
   "outputs": [],
   "source": [
    "X = np.arange(1991,2003).reshape(-1,1)"
   ]
  },
  {
   "cell_type": "code",
   "execution_count": 3,
   "metadata": {
    "collapsed": true
   },
   "outputs": [],
   "source": [
    "Y = np.array([1659,1989,2195,2255,2329,2375,2364,2354,2418,2534,2568,2835]).reshape(-1,1)"
   ]
  },
  {
   "cell_type": "code",
   "execution_count": 4,
   "metadata": {
    "collapsed": true
   },
   "outputs": [],
   "source": [
    "# 求X Y 的平均值 X_mean Y_mean\n",
    "X_mean = np.mean(X)\n",
    "Y_mean = np.mean(Y)"
   ]
  },
  {
   "cell_type": "code",
   "execution_count": 5,
   "metadata": {
    "collapsed": true
   },
   "outputs": [],
   "source": [
    "# 计算残差 l_xx l_yy l_xy\n",
    "l_xx = np.sum((X - X_mean) ** 2)\n",
    "l_yy = np.sum((Y - Y_mean) ** 2)\n",
    "l_xy = np.sum((X - X_mean) * (Y-Y_mean))"
   ]
  },
  {
   "cell_type": "code",
   "execution_count": 6,
   "metadata": {
    "collapsed": true
   },
   "outputs": [],
   "source": [
    "# 计算系数 b_hat a_hat\n",
    "b_hat = l_xy / l_xx\n",
    "a_hat = Y_mean - b_hat * X_mean"
   ]
  },
  {
   "cell_type": "code",
   "execution_count": 7,
   "metadata": {},
   "outputs": [
    {
     "name": "stdout",
     "output_type": "stream",
     "text": [
      "a_hat的值为：-147058.564103 b_hat的值为：74.8216783217\n",
      "回归方程为：y_hat=-147058.564103+74.8216783217x\n"
     ]
    }
   ],
   "source": [
    "print(\"a_hat的值为：\"+str(a_hat),\"b_hat的值为：\"+str(b_hat))\n",
    "print(\"回归方程为：y_hat=\"+str(a_hat)+\"+\"+str(b_hat)+\"x\")"
   ]
  },
  {
   "cell_type": "code",
   "execution_count": 8,
   "metadata": {},
   "outputs": [
    {
     "name": "stdout",
     "output_type": "stream",
     "text": [
      "0.915787159584\n"
     ]
    }
   ],
   "source": [
    "# 相关性检验\n",
    "R = l_xy/(l_xx * l_yy) ** 0.5\n",
    "print (R)# R = 0.9158 接近+1 属于正相关，x y之间存在显著的线性关系"
   ]
  },
  {
   "cell_type": "code",
   "execution_count": 9,
   "metadata": {
    "collapsed": true
   },
   "outputs": [],
   "source": [
    "def A_lin(X):\n",
    "    y_hat = a_hat + b_hat * X\n",
    "    return y_hat"
   ]
  },
  {
   "cell_type": "code",
   "execution_count": 10,
   "metadata": {},
   "outputs": [
    {
     "name": "stdout",
     "output_type": "stream",
     "text": [
      "预测区间为：[2548.09142051,3220.06708765]\n"
     ]
    }
   ],
   "source": [
    "# 预测分析\n",
    "Y_2004 = A_lin(2004)\n",
    "# Y_2004 的95%的预测空间\n",
    "\n",
    "sigma = ((l_yy - b_hat * l_xy) / (12 - 2)) ** 0.5\n",
    "delte = 2.228 * sigma * (1 + 1/12 + (2004 - X_mean) ** 2 / l_xx) ** 0.5 # 通过查 t分为数表得 t_0.025(10) = 2.228\n",
    "print(\"预测区间为：[\"+str(Y_2004 - delte)+\",\"+str(Y_2004 + delte)+\"]\")"
   ]
  },
  {
   "cell_type": "code",
   "execution_count": 11,
   "metadata": {
    "collapsed": true
   },
   "outputs": [],
   "source": [
    "Y_p = A_lin(X)"
   ]
  },
  {
   "cell_type": "code",
   "execution_count": 12,
   "metadata": {},
   "outputs": [
    {
     "data": {
      "image/png": "[encoded data removed]",
      "text/plain": [
       "<matplotlib.figure.Figure at 0x21f0392e940>"
      ]
     },
     "metadata": {},
     "output_type": "display_data"
    }
   ],
   "source": [
    "plt.scatter(X,Y,color='red')\n",
    "plt.scatter(X,Y_p,color='blue')\n",
    "plt.title(\"对比图\") #蓝色为预测值 红色为实际值\n",
    "plt.show()"
   ]
  },
  {
   "cell_type": "markdown",
   "metadata": {
    "collapsed": true
   },
   "source": [
    "# 多元线性回归 "
   ]
  },
  {
   "cell_type": "code",
   "execution_count": 13,
   "metadata": {},
   "outputs": [],
   "source": [
    "# X1 年份 X2 市人口数 X3 c城市GDP Y1 水路客运量 \n",
    "Years = np.arange(1991,2003).reshape(-1,1)\n",
    "Y = np.array([342,466,492,483,530,553,581.5,634.8,656.1,664.4,688.3,684.4]).reshape(-1,1)\n",
    "X1 = np.array([520,522.9,527.1,531.5,534.7,537.4,540.4,543.2,545.3,551.5,554.6,557.93]).reshape(-1,1)\n",
    "X2 = np.array([211.9,244.6,325.1,528.1,645.1,733.1,829.7,926.3,1003.1,1110.8,1235.6,1406]).reshape(-1,1)\n",
    "X1_mean = np.mean(X1) + np.zeros((12,1))\n",
    "X1_dev = X1 - X1_mean\n",
    "X2_mean = np.mean(X2) + np.zeros((12,1))\n",
    "X2_dev = X2 - X2_mean\n",
    "Y_mean = np.mean(Y) +  np.zeros((12,1))\n",
    "Y_dev = Y - Y_mean"
   ]
  },
  {
   "cell_type": "code",
   "execution_count": 14,
   "metadata": {
    "collapsed": true
   },
   "outputs": [],
   "source": [
    "import pandas as pd"
   ]
  },
  {
   "cell_type": "code",
   "execution_count": 15,
   "metadata": {},
   "outputs": [],
   "source": [
    "data = np.column_stack((Years,X1,X1_mean,X1_dev,X2,X2_mean,X2_dev,Y,Y_mean,Y_dev))"
   ]
  },
  {
   "cell_type": "code",
   "execution_count": 16,
   "metadata": {},
   "outputs": [
    {
     "data": {
      "text/html": [
       "<div>\n",
       "<style>\n",
       "    .dataframe thead tr:only-child th {\n",
       "        text-align: right;\n",
       "    }\n",
       "\n",
       "    .dataframe thead th {\n",
       "        text-align: left;\n",
       "    }\n",
       "\n",
       "    .dataframe tbody tr th {\n",
       "        vertical-align: top;\n",
       "    }\n",
       "</style>\n",
       "<table border=\"1\" class=\"dataframe\">\n",
       "  <thead>\n",
       "    <tr style=\"text-align: right;\">\n",
       "      <th></th>\n",
       "      <th>年份</th>\n",
       "      <th>X1</th>\n",
       "      <th>X1_mean</th>\n",
       "      <th>X1_dev</th>\n",
       "      <th>X2</th>\n",
       "      <th>X2_mean</th>\n",
       "      <th>X2_dev</th>\n",
       "      <th>Y</th>\n",
       "      <th>Y_mean</th>\n",
       "      <th>Y_dev</th>\n",
       "    </tr>\n",
       "  </thead>\n",
       "  <tbody>\n",
       "    <tr>\n",
       "      <th>0</th>\n",
       "      <td>1991.0</td>\n",
       "      <td>520.00</td>\n",
       "      <td>538.8775</td>\n",
       "      <td>-18.8775</td>\n",
       "      <td>211.9</td>\n",
       "      <td>766.616667</td>\n",
       "      <td>-554.716667</td>\n",
       "      <td>342.0</td>\n",
       "      <td>564.625</td>\n",
       "      <td>-222.625</td>\n",
       "    </tr>\n",
       "    <tr>\n",
       "      <th>1</th>\n",
       "      <td>1992.0</td>\n",
       "      <td>522.90</td>\n",
       "      <td>538.8775</td>\n",
       "      <td>-15.9775</td>\n",
       "      <td>244.6</td>\n",
       "      <td>766.616667</td>\n",
       "      <td>-522.016667</td>\n",
       "      <td>466.0</td>\n",
       "      <td>564.625</td>\n",
       "      <td>-98.625</td>\n",
       "    </tr>\n",
       "    <tr>\n",
       "      <th>2</th>\n",
       "      <td>1993.0</td>\n",
       "      <td>527.10</td>\n",
       "      <td>538.8775</td>\n",
       "      <td>-11.7775</td>\n",
       "      <td>325.1</td>\n",
       "      <td>766.616667</td>\n",
       "      <td>-441.516667</td>\n",
       "      <td>492.0</td>\n",
       "      <td>564.625</td>\n",
       "      <td>-72.625</td>\n",
       "    </tr>\n",
       "    <tr>\n",
       "      <th>3</th>\n",
       "      <td>1994.0</td>\n",
       "      <td>531.50</td>\n",
       "      <td>538.8775</td>\n",
       "      <td>-7.3775</td>\n",
       "      <td>528.1</td>\n",
       "      <td>766.616667</td>\n",
       "      <td>-238.516667</td>\n",
       "      <td>483.0</td>\n",
       "      <td>564.625</td>\n",
       "      <td>-81.625</td>\n",
       "    </tr>\n",
       "    <tr>\n",
       "      <th>4</th>\n",
       "      <td>1995.0</td>\n",
       "      <td>534.70</td>\n",
       "      <td>538.8775</td>\n",
       "      <td>-4.1775</td>\n",
       "      <td>645.1</td>\n",
       "      <td>766.616667</td>\n",
       "      <td>-121.516667</td>\n",
       "      <td>530.0</td>\n",
       "      <td>564.625</td>\n",
       "      <td>-34.625</td>\n",
       "    </tr>\n",
       "    <tr>\n",
       "      <th>5</th>\n",
       "      <td>1996.0</td>\n",
       "      <td>537.40</td>\n",
       "      <td>538.8775</td>\n",
       "      <td>-1.4775</td>\n",
       "      <td>733.1</td>\n",
       "      <td>766.616667</td>\n",
       "      <td>-33.516667</td>\n",
       "      <td>553.0</td>\n",
       "      <td>564.625</td>\n",
       "      <td>-11.625</td>\n",
       "    </tr>\n",
       "    <tr>\n",
       "      <th>6</th>\n",
       "      <td>1997.0</td>\n",
       "      <td>540.40</td>\n",
       "      <td>538.8775</td>\n",
       "      <td>1.5225</td>\n",
       "      <td>829.7</td>\n",
       "      <td>766.616667</td>\n",
       "      <td>63.083333</td>\n",
       "      <td>581.5</td>\n",
       "      <td>564.625</td>\n",
       "      <td>16.875</td>\n",
       "    </tr>\n",
       "    <tr>\n",
       "      <th>7</th>\n",
       "      <td>1998.0</td>\n",
       "      <td>543.20</td>\n",
       "      <td>538.8775</td>\n",
       "      <td>4.3225</td>\n",
       "      <td>926.3</td>\n",
       "      <td>766.616667</td>\n",
       "      <td>159.683333</td>\n",
       "      <td>634.8</td>\n",
       "      <td>564.625</td>\n",
       "      <td>70.175</td>\n",
       "    </tr>\n",
       "    <tr>\n",
       "      <th>8</th>\n",
       "      <td>1999.0</td>\n",
       "      <td>545.30</td>\n",
       "      <td>538.8775</td>\n",
       "      <td>6.4225</td>\n",
       "      <td>1003.1</td>\n",
       "      <td>766.616667</td>\n",
       "      <td>236.483333</td>\n",
       "      <td>656.1</td>\n",
       "      <td>564.625</td>\n",
       "      <td>91.475</td>\n",
       "    </tr>\n",
       "    <tr>\n",
       "      <th>9</th>\n",
       "      <td>2000.0</td>\n",
       "      <td>551.50</td>\n",
       "      <td>538.8775</td>\n",
       "      <td>12.6225</td>\n",
       "      <td>1110.8</td>\n",
       "      <td>766.616667</td>\n",
       "      <td>344.183333</td>\n",
       "      <td>664.4</td>\n",
       "      <td>564.625</td>\n",
       "      <td>99.775</td>\n",
       "    </tr>\n",
       "    <tr>\n",
       "      <th>10</th>\n",
       "      <td>2001.0</td>\n",
       "      <td>554.60</td>\n",
       "      <td>538.8775</td>\n",
       "      <td>15.7225</td>\n",
       "      <td>1235.6</td>\n",
       "      <td>766.616667</td>\n",
       "      <td>468.983333</td>\n",
       "      <td>688.3</td>\n",
       "      <td>564.625</td>\n",
       "      <td>123.675</td>\n",
       "    </tr>\n",
       "    <tr>\n",
       "      <th>11</th>\n",
       "      <td>2002.0</td>\n",
       "      <td>557.93</td>\n",
       "      <td>538.8775</td>\n",
       "      <td>19.0525</td>\n",
       "      <td>1406.0</td>\n",
       "      <td>766.616667</td>\n",
       "      <td>639.383333</td>\n",
       "      <td>684.4</td>\n",
       "      <td>564.625</td>\n",
       "      <td>119.775</td>\n",
       "    </tr>\n",
       "  </tbody>\n",
       "</table>\n",
       "</div>"
      ],
      "text/plain": [
       "        年份      X1   X1_mean   X1_dev      X2     X2_mean      X2_dev      Y  \\\n",
       "0   1991.0  520.00  538.8775 -18.8775   211.9  766.616667 -554.716667  342.0   \n",
       "1   1992.0  522.90  538.8775 -15.9775   244.6  766.616667 -522.016667  466.0   \n",
       "2   1993.0  527.10  538.8775 -11.7775   325.1  766.616667 -441.516667  492.0   \n",
       "3   1994.0  531.50  538.8775  -7.3775   528.1  766.616667 -238.516667  483.0   \n",
       "4   1995.0  534.70  538.8775  -4.1775   645.1  766.616667 -121.516667  530.0   \n",
       "5   1996.0  537.40  538.8775  -1.4775   733.1  766.616667  -33.516667  553.0   \n",
       "6   1997.0  540.40  538.8775   1.5225   829.7  766.616667   63.083333  581.5   \n",
       "7   1998.0  543.20  538.8775   4.3225   926.3  766.616667  159.683333  634.8   \n",
       "8   1999.0  545.30  538.8775   6.4225  1003.1  766.616667  236.483333  656.1   \n",
       "9   2000.0  551.50  538.8775  12.6225  1110.8  766.616667  344.183333  664.4   \n",
       "10  2001.0  554.60  538.8775  15.7225  1235.6  766.616667  468.983333  688.3   \n",
       "11  2002.0  557.93  538.8775  19.0525  1406.0  766.616667  639.383333  684.4   \n",
       "\n",
       "     Y_mean    Y_dev  \n",
       "0   564.625 -222.625  \n",
       "1   564.625  -98.625  \n",
       "2   564.625  -72.625  \n",
       "3   564.625  -81.625  \n",
       "4   564.625  -34.625  \n",
       "5   564.625  -11.625  \n",
       "6   564.625   16.875  \n",
       "7   564.625   70.175  \n",
       "8   564.625   91.475  \n",
       "9   564.625   99.775  \n",
       "10  564.625  123.675  \n",
       "11  564.625  119.775  "
      ]
     },
     "execution_count": 16,
     "metadata": {},
     "output_type": "execute_result"
    }
   ],
   "source": [
    "df = pd.DataFrame(data,columns=['年份','X1','X1_mean','X1_dev','X2','X2_mean','X2_dev','Y','Y_mean','Y_dev'])\n",
    "df"
   ]
  },
  {
   "cell_type": "code",
   "execution_count": 17,
   "metadata": {
    "collapsed": true
   },
   "outputs": [],
   "source": [
    "temp = np.ones((12,1))\n",
    "X = np.column_stack((temp,X1,X2))"
   ]
  },
  {
   "cell_type": "markdown",
   "metadata": {},
   "source": [
    "## 参数的最小二乘估计\n",
    "$$ x\\hat{B}=y \\rightarrow (x^Tx)\\hat{B}=x^Ty\\rightarrow \\hat{B}=(x^Tx)^{-1}(x^Ty)  $$ "
   ]
  },
  {
   "cell_type": "code",
   "execution_count": 18,
   "metadata": {},
   "outputs": [],
   "source": [
    "B = np.array(np.dot((np.mat(np.dot(X.T,X)).I),np.dot(X.T,Y))).reshape(3,)"
   ]
  },
  {
   "cell_type": "code",
   "execution_count": 19,
   "metadata": {},
   "outputs": [
    {
     "name": "stdout",
     "output_type": "stream",
     "text": [
      "回归方程为：y_hat = -8304.0869766 + 16.8392755476x1 + -0.268184532375x2\n"
     ]
    }
   ],
   "source": [
    "b_hat0,b_hat1,b_hat2 = B\n",
    "print(\"回归方程为：y_hat = \"+str(b_hat0)+\" + \"+str(b_hat1)+\"x1 + \"+str(b_hat2)+\"x2\")"
   ]
  },
  {
   "cell_type": "markdown",
   "metadata": {},
   "source": [
    "## 多元线性回归模型的检验\n"
   ]
  },
  {
   "cell_type": "code",
   "execution_count": 20,
   "metadata": {},
   "outputs": [],
   "source": [
    "def M_lin(X):\n",
    "    y_hat =  b_hat0 + b_hat1 * X[:,1] + b_hat2 * X[:,2]\n",
    "    return y_hat"
   ]
  },
  {
   "cell_type": "code",
   "execution_count": 21,
   "metadata": {},
   "outputs": [],
   "source": [
    "y_hat = M_lin(X).reshape(-1,1) #确保y_hat不是秩为1的数组"
   ]
  },
  {
   "cell_type": "code",
   "execution_count": 22,
   "metadata": {},
   "outputs": [
    {
     "name": "stdout",
     "output_type": "stream",
     "text": [
      "TSS: 125733.4225 ESS: 116009.766116 RSS:9723.65638363\n"
     ]
    }
   ],
   "source": [
    "# TSS ESS RSS 分别为 离差平方和 回归平凡和 残差平方和\n",
    "TSS = np.sum((Y - Y_mean) ** 2) \n",
    "ESS = np.sum((y_hat - Y_mean) ** 2)\n",
    "RSS = TSS - ESS\n",
    "print (\"TSS: \"+str(TSS)+\" ESS: \"+str(ESS)+\" RSS:\"+str(RSS))"
   ]
  },
  {
   "cell_type": "markdown",
   "metadata": {},
   "source": [
    "### 拟合优度检验\n",
    "\n",
    "拟合优度：$$R^2=ESS/TSS \\quad (0 \\leq R^2 \\leq 1)$$\n",
    "拟合优度修正值：$$\\bar{R^2}=1-(1-R^2)\\frac{n-1}{n-m-1}$$"
   ]
  },
  {
   "cell_type": "code",
   "execution_count": 23,
   "metadata": {
    "collapsed": true
   },
   "outputs": [],
   "source": [
    "def R_test(ESS,TSS,n,m):\n",
    "    R2 = ESS/TSS\n",
    "    Rl2 = 1 - (1-R2)*(n-1)/(n-m-1)\n",
    "    return R2,Rl2"
   ]
  },
  {
   "cell_type": "code",
   "execution_count": 24,
   "metadata": {},
   "outputs": [
    {
     "name": "stdout",
     "output_type": "stream",
     "text": [
      "R2: 0.922664505664 Rl2:0.905478840256\n"
     ]
    }
   ],
   "source": [
    "R2,Rl2 = R_test(ESS,TSS,12,2)\n",
    "print (\"R2: \"+str(R2)+\" Rl2:\"+str(Rl2))"
   ]
  },
  {
   "cell_type": "markdown",
   "metadata": {},
   "source": [
    "### F检验\n",
    "\n",
    "$$F=\\frac{\\frac{ESS}{m}}{\\frac{RSS}{n-m-1}}$$"
   ]
  },
  {
   "cell_type": "code",
   "execution_count": 25,
   "metadata": {},
   "outputs": [],
   "source": [
    "def F_test(ESS,RSS,n,m):\n",
    "    F = ESS/m/(RSS/(n-m-1))\n",
    "    return F"
   ]
  },
  {
   "cell_type": "code",
   "execution_count": 26,
   "metadata": {},
   "outputs": [
    {
     "name": "stdout",
     "output_type": "stream",
     "text": [
      "F:53.6880291659\n"
     ]
    }
   ],
   "source": [
    "F = F_test(ESS,RSS,12,2)\n",
    "print(\"F:\"+str(F))"
   ]
  },
  {
   "cell_type": "markdown",
   "metadata": {},
   "source": [
    "通过查F-test临界值表得：$$F_{0.05}(2,12-2-1)=4.26 <F$$ \n",
    "所以回归方程有意义"
   ]
  },
  {
   "cell_type": "markdown",
   "metadata": {},
   "source": [
    "### t检验\n",
    "$$|T_i|=\\frac{\\hat{b_i}}{\\sqrt{\\frac{1}{n-m-1}\\sum_{i=1}^n(y_i-\\hat{y_i})^2(x^Tx)_{ii}^{-1}}}$$"
   ]
  },
  {
   "cell_type": "code",
   "execution_count": 27,
   "metadata": {},
   "outputs": [],
   "source": [
    "def t_test(B,X,RSS,n,m):\n",
    "    T = B/np.sqrt(1/(n-m-1)*np.sum(RSS*np.diag((np.mat(np.dot(X[:,1:].T,X[:,1:])).I)).reshape(1,-1)))\n",
    "    return np.abs(T)"
   ]
  },
  {
   "cell_type": "code",
   "execution_count": 28,
   "metadata": {},
   "outputs": [],
   "source": [
    "T = t_test(B,X,RSS,12,2)"
   ]
  },
  {
   "cell_type": "code",
   "execution_count": 29,
   "metadata": {},
   "outputs": [
    {
     "data": {
      "text/plain": [
       "array([  1.67120851e+05,   3.38892653e+02,   5.39724927e+00])"
      ]
     },
     "execution_count": 29,
     "metadata": {},
     "output_type": "execute_result"
    }
   ],
   "source": [
    "T"
   ]
  },
  {
   "cell_type": "markdown",
   "metadata": {},
   "source": [
    "通过t临界值表得：$$ |T| > t_{0.025}(n-m-1)$$\n",
    "\n",
    "得出 回归系数 $b_1 b_2$ 与0有显著差异，所以保留X1 X2"
   ]
  },
  {
   "cell_type": "code",
   "execution_count": 30,
   "metadata": {},
   "outputs": [
    {
     "data": {
      "image/png": "[encoded data removed]",
      "text/plain": [
       "<matplotlib.figure.Figure at 0x21f04c9c4e0>"
      ]
     },
     "metadata": {},
     "output_type": "display_data"
    }
   ],
   "source": [
    "plt.scatter(X1,Y,color='red')\n",
    "plt.scatter(X2,Y,color='red')\n",
    "plt.scatter(X1,y_hat,color='blue')\n",
    "plt.scatter(X2,y_hat,color='blue')\n",
    "plt.title(\"对比图\") #蓝色为预测值 红色为真实\n",
    "plt.show()"
   ]
  },
  {
   "cell_type": "markdown",
   "metadata": {},
   "source": [
    "# 皮尔预测模型 "
   ]
  },
  {
   "cell_type": "code",
   "execution_count": 31,
   "metadata": {
    "collapsed": true
   },
   "outputs": [],
   "source": [
    "X1 = np.array([10091,10551,10389,10702,11078,10565,11063,25163,21697,23904,25003.7,29863,32962.2,33704,39984.4,38879.6,35156,38902,41079,43844]).reshape(-1,1)\n",
    "X2 = np.array([88.4,93.46,94.01,87.67,95.86,99.98,111.9,146.87,137.93,149.94,172.4,189.85,237.99,237.94,304.2,281.6,263.45,317.76,331.6,362.4]).reshape(-1,1)\n",
    "X3 = np.array([8552,8864,8928,9475,9880,9277,9528,23518,20095,22397.1,23437.9,28048,30796,31586,37909,36726,33039,36505,38509,40861]).reshape(-1,1)\n",
    "X4 = np.array([59.9,64.81,97.66,65.77,71.83,69.89,73.38,101.77,93.1,102.4,119.5,131.8,164.2,171.2,232.76,210.1,192.87,227.21,233.12,247.71]).reshape(-1,1)\n",
    "years = np.arange(1987,2007).reshape(-1,1)"
   ]
  },
  {
   "cell_type": "code",
   "execution_count": 32,
   "metadata": {},
   "outputs": [
    {
     "data": {
      "text/html": [
       "<div>\n",
       "<style>\n",
       "    .dataframe thead tr:only-child th {\n",
       "        text-align: right;\n",
       "    }\n",
       "\n",
       "    .dataframe thead th {\n",
       "        text-align: left;\n",
       "    }\n",
       "\n",
       "    .dataframe tbody tr th {\n",
       "        vertical-align: top;\n",
       "    }\n",
       "</style>\n",
       "<table border=\"1\" class=\"dataframe\">\n",
       "  <thead>\n",
       "    <tr style=\"text-align: right;\">\n",
       "      <th></th>\n",
       "      <th>年份</th>\n",
       "      <th>客运量/万人</th>\n",
       "      <th>旅客周转量/亿人千米</th>\n",
       "      <th>公路客运量/万人</th>\n",
       "      <th>公路旅客周转量/亿人千米</th>\n",
       "    </tr>\n",
       "  </thead>\n",
       "  <tbody>\n",
       "    <tr>\n",
       "      <th>0</th>\n",
       "      <td>1987.0</td>\n",
       "      <td>10091.0</td>\n",
       "      <td>88.40</td>\n",
       "      <td>8552.0</td>\n",
       "      <td>59.90</td>\n",
       "    </tr>\n",
       "    <tr>\n",
       "      <th>1</th>\n",
       "      <td>1988.0</td>\n",
       "      <td>10551.0</td>\n",
       "      <td>93.46</td>\n",
       "      <td>8864.0</td>\n",
       "      <td>64.81</td>\n",
       "    </tr>\n",
       "    <tr>\n",
       "      <th>2</th>\n",
       "      <td>1989.0</td>\n",
       "      <td>10389.0</td>\n",
       "      <td>94.01</td>\n",
       "      <td>8928.0</td>\n",
       "      <td>97.66</td>\n",
       "    </tr>\n",
       "    <tr>\n",
       "      <th>3</th>\n",
       "      <td>1990.0</td>\n",
       "      <td>10702.0</td>\n",
       "      <td>87.67</td>\n",
       "      <td>9475.0</td>\n",
       "      <td>65.77</td>\n",
       "    </tr>\n",
       "    <tr>\n",
       "      <th>4</th>\n",
       "      <td>1991.0</td>\n",
       "      <td>11078.0</td>\n",
       "      <td>95.86</td>\n",
       "      <td>9880.0</td>\n",
       "      <td>71.83</td>\n",
       "    </tr>\n",
       "    <tr>\n",
       "      <th>5</th>\n",
       "      <td>1992.0</td>\n",
       "      <td>10565.0</td>\n",
       "      <td>99.98</td>\n",
       "      <td>9277.0</td>\n",
       "      <td>69.89</td>\n",
       "    </tr>\n",
       "    <tr>\n",
       "      <th>6</th>\n",
       "      <td>1993.0</td>\n",
       "      <td>11063.0</td>\n",
       "      <td>111.90</td>\n",
       "      <td>9528.0</td>\n",
       "      <td>73.38</td>\n",
       "    </tr>\n",
       "    <tr>\n",
       "      <th>7</th>\n",
       "      <td>1994.0</td>\n",
       "      <td>25163.0</td>\n",
       "      <td>146.87</td>\n",
       "      <td>23518.0</td>\n",
       "      <td>101.77</td>\n",
       "    </tr>\n",
       "    <tr>\n",
       "      <th>8</th>\n",
       "      <td>1995.0</td>\n",
       "      <td>21697.0</td>\n",
       "      <td>137.93</td>\n",
       "      <td>20095.0</td>\n",
       "      <td>93.10</td>\n",
       "    </tr>\n",
       "    <tr>\n",
       "      <th>9</th>\n",
       "      <td>1996.0</td>\n",
       "      <td>23904.0</td>\n",
       "      <td>149.94</td>\n",
       "      <td>22397.1</td>\n",
       "      <td>102.40</td>\n",
       "    </tr>\n",
       "    <tr>\n",
       "      <th>10</th>\n",
       "      <td>1997.0</td>\n",
       "      <td>25003.7</td>\n",
       "      <td>172.40</td>\n",
       "      <td>23437.9</td>\n",
       "      <td>119.50</td>\n",
       "    </tr>\n",
       "    <tr>\n",
       "      <th>11</th>\n",
       "      <td>1998.0</td>\n",
       "      <td>29863.0</td>\n",
       "      <td>189.85</td>\n",
       "      <td>28048.0</td>\n",
       "      <td>131.80</td>\n",
       "    </tr>\n",
       "    <tr>\n",
       "      <th>12</th>\n",
       "      <td>1999.0</td>\n",
       "      <td>32962.2</td>\n",
       "      <td>237.99</td>\n",
       "      <td>30796.0</td>\n",
       "      <td>164.20</td>\n",
       "    </tr>\n",
       "    <tr>\n",
       "      <th>13</th>\n",
       "      <td>2000.0</td>\n",
       "      <td>33704.0</td>\n",
       "      <td>237.94</td>\n",
       "      <td>31586.0</td>\n",
       "      <td>171.20</td>\n",
       "    </tr>\n",
       "    <tr>\n",
       "      <th>14</th>\n",
       "      <td>2001.0</td>\n",
       "      <td>39984.4</td>\n",
       "      <td>304.20</td>\n",
       "      <td>37909.0</td>\n",
       "      <td>232.76</td>\n",
       "    </tr>\n",
       "    <tr>\n",
       "      <th>15</th>\n",
       "      <td>2002.0</td>\n",
       "      <td>38879.6</td>\n",
       "      <td>281.60</td>\n",
       "      <td>36726.0</td>\n",
       "      <td>210.10</td>\n",
       "    </tr>\n",
       "    <tr>\n",
       "      <th>16</th>\n",
       "      <td>2003.0</td>\n",
       "      <td>35156.0</td>\n",
       "      <td>263.45</td>\n",
       "      <td>33039.0</td>\n",
       "      <td>192.87</td>\n",
       "    </tr>\n",
       "    <tr>\n",
       "      <th>17</th>\n",
       "      <td>2004.0</td>\n",
       "      <td>38902.0</td>\n",
       "      <td>317.76</td>\n",
       "      <td>36505.0</td>\n",
       "      <td>227.21</td>\n",
       "    </tr>\n",
       "    <tr>\n",
       "      <th>18</th>\n",
       "      <td>2005.0</td>\n",
       "      <td>41079.0</td>\n",
       "      <td>331.60</td>\n",
       "      <td>38509.0</td>\n",
       "      <td>233.12</td>\n",
       "    </tr>\n",
       "    <tr>\n",
       "      <th>19</th>\n",
       "      <td>2006.0</td>\n",
       "      <td>43844.0</td>\n",
       "      <td>362.40</td>\n",
       "      <td>40861.0</td>\n",
       "      <td>247.71</td>\n",
       "    </tr>\n",
       "  </tbody>\n",
       "</table>\n",
       "</div>"
      ],
      "text/plain": [
       "        年份   客运量/万人  旅客周转量/亿人千米  公路客运量/万人  公路旅客周转量/亿人千米\n",
       "0   1987.0  10091.0       88.40    8552.0         59.90\n",
       "1   1988.0  10551.0       93.46    8864.0         64.81\n",
       "2   1989.0  10389.0       94.01    8928.0         97.66\n",
       "3   1990.0  10702.0       87.67    9475.0         65.77\n",
       "4   1991.0  11078.0       95.86    9880.0         71.83\n",
       "5   1992.0  10565.0       99.98    9277.0         69.89\n",
       "6   1993.0  11063.0      111.90    9528.0         73.38\n",
       "7   1994.0  25163.0      146.87   23518.0        101.77\n",
       "8   1995.0  21697.0      137.93   20095.0         93.10\n",
       "9   1996.0  23904.0      149.94   22397.1        102.40\n",
       "10  1997.0  25003.7      172.40   23437.9        119.50\n",
       "11  1998.0  29863.0      189.85   28048.0        131.80\n",
       "12  1999.0  32962.2      237.99   30796.0        164.20\n",
       "13  2000.0  33704.0      237.94   31586.0        171.20\n",
       "14  2001.0  39984.4      304.20   37909.0        232.76\n",
       "15  2002.0  38879.6      281.60   36726.0        210.10\n",
       "16  2003.0  35156.0      263.45   33039.0        192.87\n",
       "17  2004.0  38902.0      317.76   36505.0        227.21\n",
       "18  2005.0  41079.0      331.60   38509.0        233.12\n",
       "19  2006.0  43844.0      362.40   40861.0        247.71"
      ]
     },
     "execution_count": 32,
     "metadata": {},
     "output_type": "execute_result"
    }
   ],
   "source": [
    "data = np.column_stack([years,X1,X2,X3,X4])\n",
    "df1 = pd.DataFrame(data,columns=['年份','客运量/万人','旅客周转量/亿人千米','公路客运量/万人','公路旅客周转量/亿人千米'])\n",
    "df1"
   ]
  },
  {
   "cell_type": "code",
   "execution_count": 33,
   "metadata": {},
   "outputs": [
    {
     "data": {
      "image/png": "[encoded data removed]",
      "text/plain": [
       "<matplotlib.figure.Figure at 0x21f05139e10>"
      ]
     },
     "metadata": {},
     "output_type": "display_data"
    }
   ],
   "source": [
    "plt.scatter(years,X1,color='red')\n",
    "plt.title(\"观测值\")\n",
    "plt.show()"
   ]
  },
  {
   "cell_type": "code",
   "execution_count": 34,
   "metadata": {},
   "outputs": [],
   "source": [
    "def S_n(n,X):\n",
    "    r = n//3\n",
    "    S1 = np.sum(1/X[0:r,0].reshape(-1,1))\n",
    "    S2 = np.sum(1/X[r:2*r,0].reshape(-1,1))\n",
    "    S3 = np.sum(1/X[2*r:3*r,0].reshape(-1,1))\n",
    "    return r,S1,S2,S3"
   ]
  },
  {
   "cell_type": "code",
   "execution_count": 35,
   "metadata": {
    "collapsed": true
   },
   "outputs": [],
   "source": [
    "def pearl(S1,S2,S3,r):\n",
    "    b = (np.log(S1-S2)-np.log(S2-S3))/r\n",
    "    L = r/(S1-((S1-S2)**2)/((S1-S2)-(S2-S3)))\n",
    "    a = ((S1-S2)**2*(1-np.exp(-b))*L)/(((S1-S2)-(S2-S3))*np.exp(-b)*(1-np.exp(-r*b)))\n",
    "    return b,L,a"
   ]
  },
  {
   "cell_type": "code",
   "execution_count": 36,
   "metadata": {},
   "outputs": [],
   "source": [
    "r,S1,S2,S3 = S_n(X1.shape[0],X1)\n",
    "b1,L1,a1 = pearl(S1,S2,S3,r)\n",
    "r,S1,S2,S3 = S_n(X2.shape[0],X2)\n",
    "b2,L2,a2 = pearl(S1,S2,S3,r)\n",
    "r,S1,S2,S3 = S_n(X3.shape[0],X3)\n",
    "b3,L3,a3 = pearl(S1,S2,S3,r)\n",
    "r,S1,S2,S3 = S_n(X4.shape[0],X4)\n",
    "b4,L4,a4 = pearl(S1,S2,S3,r)\n",
    "\n"
   ]
  },
  {
   "cell_type": "code",
   "execution_count": 37,
   "metadata": {},
   "outputs": [
    {
     "name": "stdout",
     "output_type": "stream",
     "text": [
      "0.130409093718 103132.211931 13.508047349\n",
      "0.0412649469769 -136.887134564 -2.84820217454\n",
      "0.140334515423 91209.0524268 14.2572759046\n",
      "-0.020914554552 21.4759794263 -0.64358007626\n"
     ]
    }
   ],
   "source": [
    "print(b1,L1,a1)\n",
    "print(b2,L2,a2)\n",
    "print(b3,L3,a3)\n",
    "print(b4,L4,a4)"
   ]
  }
 ],
 "metadata": {
  "kernelspec": {
   "display_name": "Python 3",
   "language": "python",
   "name": "python3"
  },
  "language_info": {
   "codemirror_mode": {
    "name": "ipython",
    "version": 3
   },
   "file_extension": ".py",
   "mimetype": "text/x-python",
   "name": "python",
   "nbconvert_exporter": "python",
   "pygments_lexer": "ipython3",
   "version": "3.6.2"
  }
 },
 "nbformat": 4,
 "nbformat_minor": 2
}
